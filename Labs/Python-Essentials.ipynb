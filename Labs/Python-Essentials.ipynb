{
 "cells": [
  {
   "cell_type": "markdown",
   "metadata": {},
   "source": [
    "# Python Essentials"
   ]
  },
  {
   "cell_type": "markdown",
   "metadata": {},
   "source": [
    "The essentials of Python coding with *absolutely no explanation*."
   ]
  },
  {
   "cell_type": "markdown",
   "metadata": {},
   "source": [
    "## Useful methods"
   ]
  },
  {
   "cell_type": "markdown",
   "metadata": {},
   "source": [
    "Use `<TAB>` to complete variable names or see available functions. Use the `help` command or spyder's Object Inspector to see how to use specific functions."
   ]
  },
  {
   "cell_type": "markdown",
   "metadata": {},
   "source": [
    "## Mathematical operators"
   ]
  },
  {
   "cell_type": "markdown",
   "metadata": {},
   "source": [
    "Standard operations:"
   ]
  },
  {
   "cell_type": "code",
   "execution_count": 1,
   "metadata": {},
   "outputs": [
    {
     "name": "stdout",
     "output_type": "stream",
     "text": [
      "2\n",
      "1\n",
      "6\n",
      "0.5\n"
     ]
    }
   ],
   "source": [
    "print(1+1)\n",
    "print(2-1)\n",
    "print(2*3)\n",
    "print(1/2)"
   ]
  },
  {
   "cell_type": "markdown",
   "metadata": {},
   "source": [
    "Powers:"
   ]
  },
  {
   "cell_type": "code",
   "execution_count": 2,
   "metadata": {},
   "outputs": [
    {
     "name": "stdout",
     "output_type": "stream",
     "text": [
      "4\n",
      "8\n",
      "1.4142135623730951\n"
     ]
    }
   ],
   "source": [
    "print(2**2)\n",
    "print(2**3)\n",
    "print(2**(1/2))"
   ]
  },
  {
   "cell_type": "markdown",
   "metadata": {},
   "source": [
    "## Variables"
   ]
  },
  {
   "cell_type": "markdown",
   "metadata": {},
   "source": [
    "Start with a letter; don't use special characters or spaces:"
   ]
  },
  {
   "cell_type": "code",
   "execution_count": 3,
   "metadata": {},
   "outputs": [
    {
     "name": "stdout",
     "output_type": "stream",
     "text": [
      "810\n"
     ]
    }
   ],
   "source": [
    "x = 3\n",
    "y = 15\n",
    "z = x+y\n",
    "my_variable_name = x * y * z\n",
    "print(my_variable_name)"
   ]
  },
  {
   "cell_type": "markdown",
   "metadata": {},
   "source": [
    "## Strings"
   ]
  },
  {
   "cell_type": "markdown",
   "metadata": {},
   "source": [
    "Use the same type of quotes to open and close."
   ]
  },
  {
   "cell_type": "code",
   "execution_count": 4,
   "metadata": {},
   "outputs": [
    {
     "name": "stdout",
     "output_type": "stream",
     "text": [
      "Ian Hawke can't use single quotes\n"
     ]
    }
   ],
   "source": [
    "name = 'Ian Hawke'\n",
    "apostrophe = \"can't use single quotes\"\n",
    "print(name, apostrophe)"
   ]
  },
  {
   "cell_type": "markdown",
   "metadata": {},
   "source": [
    "Use triple quotes for a string spanning more than one line."
   ]
  },
  {
   "cell_type": "code",
   "execution_count": 5,
   "metadata": {},
   "outputs": [
    {
     "name": "stdout",
     "output_type": "stream",
     "text": [
      "Hello\n",
      "world.\n",
      "This\n",
      "is\n",
      "just\n",
      "silly.\n",
      "\n"
     ]
    }
   ],
   "source": [
    "multiline_string = \"\"\"Hello\n",
    "world.\n",
    "This\n",
    "is\n",
    "just\n",
    "silly.\n",
    "\"\"\"\n",
    "print(multiline_string)"
   ]
  },
  {
   "cell_type": "markdown",
   "metadata": {},
   "source": [
    "To print variables mixed in with strings either separate by commas:"
   ]
  },
  {
   "cell_type": "code",
   "execution_count": 6,
   "metadata": {},
   "outputs": [
    {
     "name": "stdout",
     "output_type": "stream",
     "text": [
      "Hello Ian Hawke , how are you?\n"
     ]
    }
   ],
   "source": [
    "print(\"Hello\", name, \", how are you?\")"
   ]
  },
  {
   "cell_type": "markdown",
   "metadata": {},
   "source": [
    "Alternatively (and more useful in general), use the `format` command (note the behaviour of `{}` in the string):"
   ]
  },
  {
   "cell_type": "code",
   "execution_count": 7,
   "metadata": {},
   "outputs": [
    {
     "name": "stdout",
     "output_type": "stream",
     "text": [
      "Hello Ian Hawke, how are you?\n"
     ]
    }
   ],
   "source": [
    "print(\"Hello {}, how are you?\".format(name))"
   ]
  },
  {
   "cell_type": "markdown",
   "metadata": {},
   "source": [
    "In very recent versions, use `f`-strings:"
   ]
  },
  {
   "cell_type": "code",
   "execution_count": 8,
   "metadata": {},
   "outputs": [
    {
     "name": "stdout",
     "output_type": "stream",
     "text": [
      "Hello Ian Hawke, how are you?\n"
     ]
    }
   ],
   "source": [
    "print(f\"Hello {name}, how are you?\")"
   ]
  },
  {
   "cell_type": "markdown",
   "metadata": {},
   "source": [
    "## Lists and slicing"
   ]
  },
  {
   "cell_type": "markdown",
   "metadata": {},
   "source": [
    "Define a list with square brackets `[]`:"
   ]
  },
  {
   "cell_type": "code",
   "execution_count": 9,
   "metadata": {},
   "outputs": [],
   "source": [
    "list_variable = [1,2,3,4,5]"
   ]
  },
  {
   "cell_type": "markdown",
   "metadata": {},
   "source": [
    "Get individual entries using square brackets after the name. Note that this **starts from `0`**:"
   ]
  },
  {
   "cell_type": "code",
   "execution_count": 10,
   "metadata": {},
   "outputs": [
    {
     "name": "stdout",
     "output_type": "stream",
     "text": [
      "1\n",
      "3\n"
     ]
    }
   ],
   "source": [
    "print(list_variable[0])\n",
    "print(list_variable[2])"
   ]
  },
  {
   "cell_type": "markdown",
   "metadata": {},
   "source": [
    "Get the length of the list using `len`:"
   ]
  },
  {
   "cell_type": "code",
   "execution_count": 11,
   "metadata": {},
   "outputs": [
    {
     "name": "stdout",
     "output_type": "stream",
     "text": [
      "5\n"
     ]
    }
   ],
   "source": [
    "print(len(list_variable))"
   ]
  },
  {
   "cell_type": "markdown",
   "metadata": {},
   "source": [
    "Get multiple entries using slicing, `start:end:step`. This includes the start, does *not* include the end. `step` defaults to `1`, others to obvious:"
   ]
  },
  {
   "cell_type": "code",
   "execution_count": 12,
   "metadata": {},
   "outputs": [
    {
     "name": "stdout",
     "output_type": "stream",
     "text": [
      "[1, 2]\n",
      "[1, 2]\n",
      "[4, 5]\n",
      "[4, 5]\n",
      "[1, 3, 5]\n",
      "[2, 4]\n"
     ]
    }
   ],
   "source": [
    "print(list_variable[0:2])\n",
    "print(list_variable[:2])\n",
    "print(list_variable[3:5])\n",
    "print(list_variable[3:])\n",
    "print(list_variable[0:5:2])\n",
    "print(list_variable[1:5:2])"
   ]
  },
  {
   "cell_type": "markdown",
   "metadata": {},
   "source": [
    "Use negative numbers to indicate entries from the end:"
   ]
  },
  {
   "cell_type": "code",
   "execution_count": 13,
   "metadata": {},
   "outputs": [
    {
     "name": "stdout",
     "output_type": "stream",
     "text": [
      "5\n",
      "4\n",
      "[5, 4]\n"
     ]
    }
   ],
   "source": [
    "print(list_variable[-1])\n",
    "print(list_variable[-2])\n",
    "print(list_variable[-1:-3:-1])"
   ]
  },
  {
   "cell_type": "markdown",
   "metadata": {},
   "source": [
    "Set entries into the list in the standard way of setting a variable, but you can do multiple entries in one go:"
   ]
  },
  {
   "cell_type": "code",
   "execution_count": 14,
   "metadata": {},
   "outputs": [
    {
     "name": "stdout",
     "output_type": "stream",
     "text": [
      "[10, 2, 3, 4, 5]\n",
      "[9, 11, 3, 4, 5]\n"
     ]
    }
   ],
   "source": [
    "list_variable[0] = 10\n",
    "print(list_variable)\n",
    "list_variable[0:2] = [9, 11]\n",
    "print(list_variable)"
   ]
  },
  {
   "cell_type": "markdown",
   "metadata": {},
   "source": [
    "## Loops"
   ]
  },
  {
   "cell_type": "markdown",
   "metadata": {},
   "source": [
    "Do something multiple times. For each entry in a list, do something:"
   ]
  },
  {
   "cell_type": "code",
   "execution_count": 15,
   "metadata": {},
   "outputs": [
    {
     "name": "stdout",
     "output_type": "stream",
     "text": [
      "1\n",
      "2\n",
      "3\n",
      "4\n",
      "5\n"
     ]
    }
   ],
   "source": [
    "list_variable = [1,2,3,4,5]\n",
    "for number in list_variable:\n",
    "    print(number)"
   ]
  },
  {
   "cell_type": "markdown",
   "metadata": {},
   "source": [
    "Each step in the loop sets the variable `number` to the next entry in the list, and executes *all code lines that are indented immediately after the colon*."
   ]
  },
  {
   "cell_type": "code",
   "execution_count": 16,
   "metadata": {},
   "outputs": [
    {
     "name": "stdout",
     "output_type": "stream",
     "text": [
      "number3 1\n",
      "number3 3\n",
      "number3 5\n",
      "number3 7\n",
      "number3 9\n",
      "number2 10\n"
     ]
    }
   ],
   "source": [
    "for number in list_variable:\n",
    "    number2 = 2*number\n",
    "    number3 = number2-1\n",
    "    print(\"number3\", number3)\n",
    "print(\"number2\", number2)"
   ]
  },
  {
   "cell_type": "markdown",
   "metadata": {},
   "source": [
    "Loops can be *nested*:"
   ]
  },
  {
   "cell_type": "code",
   "execution_count": 17,
   "metadata": {},
   "outputs": [
    {
     "name": "stdout",
     "output_type": "stream",
     "text": [
      "In loop 1: 1\n",
      "In loop 2: 4\n",
      "In loop 2: 5\n",
      "In loop 2: 6\n",
      "Back in loop 1: 1\n",
      "In loop 1: 2\n",
      "In loop 2: 4\n",
      "In loop 2: 5\n",
      "In loop 2: 6\n",
      "Back in loop 1: 2\n",
      "In loop 1: 3\n",
      "In loop 2: 4\n",
      "In loop 2: 5\n",
      "In loop 2: 6\n",
      "Back in loop 1: 3\n",
      "Done\n"
     ]
    }
   ],
   "source": [
    "list1 = [1, 2, 3]\n",
    "list2 = [4, 5, 6]\n",
    "for number1 in list1:\n",
    "    print(\"In loop 1:\", number1)\n",
    "    for number2 in list2:\n",
    "        print(\"In loop 2:\", number2)\n",
    "    print(\"Back in loop 1:\", number1)\n",
    "print(\"Done\")"
   ]
  },
  {
   "cell_type": "markdown",
   "metadata": {},
   "source": [
    "We often loop over consecutive integers. Python provides the `range` function for this:"
   ]
  },
  {
   "cell_type": "code",
   "execution_count": 18,
   "metadata": {},
   "outputs": [
    {
     "name": "stdout",
     "output_type": "stream",
     "text": [
      "0\n",
      "1\n",
      "2\n",
      "3\n"
     ]
    }
   ],
   "source": [
    "for number in range(4):\n",
    "    print(number)"
   ]
  },
  {
   "cell_type": "markdown",
   "metadata": {},
   "source": [
    "If you have a vector that you want to loop over whilst keeping track of the index, use the `enumerate` function:"
   ]
  },
  {
   "cell_type": "code",
   "execution_count": 19,
   "metadata": {},
   "outputs": [
    {
     "name": "stdout",
     "output_type": "stream",
     "text": [
      "Index is 0 number is 3.4\n",
      "Index is 1 number is 7.9\n",
      "Index is 2 number is -6.4\n",
      "Index is 3 number is 0.1\n"
     ]
    }
   ],
   "source": [
    "list_enum = [3.4, 7.9, -6.4, 0.1]\n",
    "for i, number in enumerate(list_enum):\n",
    "    print(\"Index is\", i, \"number is\", number)"
   ]
  },
  {
   "cell_type": "markdown",
   "metadata": {},
   "source": [
    "Finally, if you don't know how often you want to do the loop, you can use a `while` loop:"
   ]
  },
  {
   "cell_type": "code",
   "execution_count": 20,
   "metadata": {},
   "outputs": [
    {
     "name": "stdout",
     "output_type": "stream",
     "text": [
      "number is now 6.5\n",
      "number is now 2.25\n",
      "number is now 0.125\n",
      "number is now -0.9375\n"
     ]
    }
   ],
   "source": [
    "number = 15\n",
    "while number > 0:\n",
    "    number = number / 2 - 1\n",
    "    print(\"number is now\", number)"
   ]
  },
  {
   "cell_type": "markdown",
   "metadata": {},
   "source": [
    "## Control flow"
   ]
  },
  {
   "cell_type": "markdown",
   "metadata": {},
   "source": [
    "To make the code execute certain statements *only if* certain conditions are met, the `if`/`elif`/`else` commands are needed:"
   ]
  },
  {
   "cell_type": "code",
   "execution_count": 21,
   "metadata": {},
   "outputs": [
    {
     "name": "stdout",
     "output_type": "stream",
     "text": [
      "2 >1 \n"
     ]
    }
   ],
   "source": [
    "if 1 < 0:\n",
    "    print(\"1 < 0\")\n",
    "elif 2 > 1:\n",
    "    print(\"2 >1 \")\n",
    "else:\n",
    "    print(\"Neither 1 < 0 nor 2 > 1\")"
   ]
  },
  {
   "cell_type": "code",
   "execution_count": 22,
   "metadata": {},
   "outputs": [
    {
     "name": "stdout",
     "output_type": "stream",
     "text": [
      "1 > 0\n"
     ]
    }
   ],
   "source": [
    "if 1 > 0:\n",
    "    print(\"1 > 0\")\n",
    "elif 2 > 1:\n",
    "    print(\"2 > 1\")\n",
    "else:\n",
    "    print(\"Neither 1 > 0 nor 2 > 1\")"
   ]
  },
  {
   "cell_type": "code",
   "execution_count": 23,
   "metadata": {},
   "outputs": [
    {
     "name": "stdout",
     "output_type": "stream",
     "text": [
      "Neither 1 < 0 nor 2 < 1\n"
     ]
    }
   ],
   "source": [
    "if 1 < 0:\n",
    "    print(\"1 < 0\")\n",
    "elif 2 < 1:\n",
    "    print(\"2 < 1\")\n",
    "else:\n",
    "    print(\"Neither 1 < 0 nor 2 < 1\")"
   ]
  },
  {
   "cell_type": "markdown",
   "metadata": {},
   "source": [
    "As with loops, the code to be executed is indented after the colon."
   ]
  },
  {
   "cell_type": "markdown",
   "metadata": {},
   "source": [
    "## Functions"
   ]
  },
  {
   "cell_type": "markdown",
   "metadata": {},
   "source": [
    "Saves blocks of code that can be re-used:"
   ]
  },
  {
   "cell_type": "code",
   "execution_count": 24,
   "metadata": {},
   "outputs": [],
   "source": [
    "def divide(a, b):\n",
    "    \"\"\"\n",
    "    Divide a by b.\n",
    "    \"\"\"\n",
    "    result = a/b\n",
    "    return result"
   ]
  },
  {
   "cell_type": "markdown",
   "metadata": {},
   "source": [
    "The name of the function appears immediately after the `def` keyword. Here it is `divide`.\n",
    "\n",
    "The arguments are the variables in the brackets. Here they are `a` and `b`.\n",
    "\n",
    "The code executed is everything that is indented after the colon (as with the loops above).\n",
    "\n",
    "The value you get from calling the function is that after the `return`: this could be a number, or a list, or something more complex."
   ]
  },
  {
   "cell_type": "code",
   "execution_count": 25,
   "metadata": {},
   "outputs": [
    {
     "name": "stdout",
     "output_type": "stream",
     "text": [
      "0.5\n"
     ]
    }
   ],
   "source": [
    "print(divide(1,2))"
   ]
  },
  {
   "cell_type": "markdown",
   "metadata": {},
   "source": [
    "The string (called the *docstring*) appears when you ask for help on the function:"
   ]
  },
  {
   "cell_type": "code",
   "execution_count": 26,
   "metadata": {},
   "outputs": [
    {
     "name": "stdout",
     "output_type": "stream",
     "text": [
      "Help on function divide in module __main__:\n",
      "\n",
      "divide(a, b)\n",
      "    Divide a by b.\n",
      "\n"
     ]
    }
   ],
   "source": [
    "help(divide)"
   ]
  },
  {
   "cell_type": "markdown",
   "metadata": {},
   "source": [
    "## Packages"
   ]
  },
  {
   "cell_type": "markdown",
   "metadata": {},
   "source": [
    "To make commands from a package available you have to `import` them. Commands or variables are then referred to by the name with which you imported followed by a dot."
   ]
  },
  {
   "cell_type": "code",
   "execution_count": 27,
   "metadata": {},
   "outputs": [
    {
     "name": "stdout",
     "output_type": "stream",
     "text": [
      "3.141592653589793\n"
     ]
    }
   ],
   "source": [
    "import numpy\n",
    "print(numpy.pi)"
   ]
  },
  {
   "cell_type": "code",
   "execution_count": 28,
   "metadata": {},
   "outputs": [
    {
     "name": "stdout",
     "output_type": "stream",
     "text": [
      "9.10938356e-31\n"
     ]
    }
   ],
   "source": [
    "import scipy.constants\n",
    "print(scipy.constants.m_e)"
   ]
  },
  {
   "cell_type": "code",
   "execution_count": 29,
   "metadata": {},
   "outputs": [
    {
     "name": "stdout",
     "output_type": "stream",
     "text": [
      "9.10938356e-31\n"
     ]
    }
   ],
   "source": [
    "from scipy import constants\n",
    "print(constants.m_e)"
   ]
  },
  {
   "cell_type": "markdown",
   "metadata": {},
   "source": [
    "If you create a file and save it with the name `file1.py`, then you can `import` the content of that file from another file in the *same directory* using the command `import file1`."
   ]
  },
  {
   "cell_type": "markdown",
   "metadata": {},
   "source": [
    "## Linear algebra and `numpy`"
   ]
  },
  {
   "cell_type": "markdown",
   "metadata": {},
   "source": [
    "We use `numpy` for most linear algebra.\n",
    "\n",
    "Create a vector, matrix, or array."
   ]
  },
  {
   "cell_type": "code",
   "execution_count": 30,
   "metadata": {},
   "outputs": [
    {
     "name": "stdout",
     "output_type": "stream",
     "text": [
      "[1. 2.]\n",
      "[[1. 2.]\n",
      " [3. 4.]]\n",
      "[[1. 2. 3.]\n",
      " [4. 5. 6.]]\n"
     ]
    }
   ],
   "source": [
    "x = numpy.array([1.0, 2.0])\n",
    "b = numpy.array([3.0, 4.0])\n",
    "A = numpy.array([ [1.0, 2.0], [3.0, 4.0] ])\n",
    "C = numpy.array([ [1.0, 2.0, 3.0], [4.0, 5.0, 6.0] ])\n",
    "print(x)\n",
    "print(A)\n",
    "print(C)"
   ]
  },
  {
   "cell_type": "markdown",
   "metadata": {},
   "source": [
    "Get their lengths and shapes."
   ]
  },
  {
   "cell_type": "code",
   "execution_count": 31,
   "metadata": {},
   "outputs": [
    {
     "name": "stdout",
     "output_type": "stream",
     "text": [
      "2\n",
      "(2,)\n",
      "2\n",
      "(2, 2)\n"
     ]
    }
   ],
   "source": [
    "print(len(x))\n",
    "print(x.shape)\n",
    "print(len(A))\n",
    "print(A.shape)"
   ]
  },
  {
   "cell_type": "markdown",
   "metadata": {},
   "source": [
    "Create arrays creating just zeros or ones, either of specific sizes (eg `zeros`), or of the same size as an existing array (eg `zeros_like`):"
   ]
  },
  {
   "cell_type": "code",
   "execution_count": 32,
   "metadata": {},
   "outputs": [
    {
     "name": "stdout",
     "output_type": "stream",
     "text": [
      "[1. 1. 1.]\n",
      "[[0. 0. 0. 0.]\n",
      " [0. 0. 0. 0.]\n",
      " [0. 0. 0. 0.]\n",
      " [0. 0. 0. 0.]]\n",
      "[[1. 1.]\n",
      " [1. 1.]]\n"
     ]
    }
   ],
   "source": [
    "v = numpy.ones(3)\n",
    "w = numpy.zeros((4, 4))\n",
    "print(v)\n",
    "print(w)\n",
    "D = numpy.ones_like(A)\n",
    "print(D)"
   ]
  },
  {
   "cell_type": "markdown",
   "metadata": {},
   "source": [
    "We'll often need to create *linearly spaced* arrays over an interval, like $[0,1]$:"
   ]
  },
  {
   "cell_type": "code",
   "execution_count": 33,
   "metadata": {},
   "outputs": [
    {
     "name": "stdout",
     "output_type": "stream",
     "text": [
      "[0.  0.2 0.4 0.6 0.8 1. ]\n"
     ]
    }
   ],
   "source": [
    "z = numpy.linspace(0, 1, 6)\n",
    "print(z)"
   ]
  },
  {
   "cell_type": "markdown",
   "metadata": {},
   "source": [
    "Mathematical operations apply to all components at once:"
   ]
  },
  {
   "cell_type": "code",
   "execution_count": 34,
   "metadata": {},
   "outputs": [
    {
     "name": "stdout",
     "output_type": "stream",
     "text": [
      "[2. 3.]\n",
      "[[2. 4.]\n",
      " [6. 8.]]\n",
      "[[ 1.  4.  9.]\n",
      " [16. 25. 36.]]\n"
     ]
    }
   ],
   "source": [
    "print(x + 1)\n",
    "print(2 * A)\n",
    "print(C**2)"
   ]
  },
  {
   "cell_type": "markdown",
   "metadata": {},
   "source": [
    "Specific `numpy` functions apply to all components at once:"
   ]
  },
  {
   "cell_type": "code",
   "execution_count": 35,
   "metadata": {},
   "outputs": [
    {
     "name": "stdout",
     "output_type": "stream",
     "text": [
      "[0.84147098 0.90929743]\n"
     ]
    }
   ],
   "source": [
    "print(numpy.sin(x))"
   ]
  },
  {
   "cell_type": "markdown",
   "metadata": {},
   "source": [
    "Functions can be applied to entire arrays, for example to sum all entries:"
   ]
  },
  {
   "cell_type": "code",
   "execution_count": 36,
   "metadata": {},
   "outputs": [
    {
     "name": "stdout",
     "output_type": "stream",
     "text": [
      "3.0\n",
      "10.0\n"
     ]
    }
   ],
   "source": [
    "print(numpy.sum(x))\n",
    "print(numpy.sum(A))"
   ]
  },
  {
   "cell_type": "markdown",
   "metadata": {},
   "source": [
    "Vector dot products and matrix multiplications use the `dot` function:"
   ]
  },
  {
   "cell_type": "code",
   "execution_count": 37,
   "metadata": {},
   "outputs": [
    {
     "name": "stdout",
     "output_type": "stream",
     "text": [
      "5.0\n",
      "[ 5. 11.]\n"
     ]
    }
   ],
   "source": [
    "print(numpy.dot(x,x))\n",
    "print(numpy.dot(A,x))"
   ]
  },
  {
   "cell_type": "markdown",
   "metadata": {},
   "source": [
    "More specific linear algebra functions can be found in the `linalg` subpackage.\n",
    "\n",
    "Solve the linear system:"
   ]
  },
  {
   "cell_type": "code",
   "execution_count": 38,
   "metadata": {},
   "outputs": [
    {
     "name": "stdout",
     "output_type": "stream",
     "text": [
      "[-2.   2.5]\n"
     ]
    }
   ],
   "source": [
    "print(numpy.linalg.solve(A, b))"
   ]
  },
  {
   "cell_type": "markdown",
   "metadata": {},
   "source": [
    "Matrix determinant:"
   ]
  },
  {
   "cell_type": "code",
   "execution_count": 39,
   "metadata": {},
   "outputs": [
    {
     "name": "stdout",
     "output_type": "stream",
     "text": [
      "-2.0000000000000004\n"
     ]
    }
   ],
   "source": [
    "print(numpy.linalg.det(A))"
   ]
  },
  {
   "cell_type": "markdown",
   "metadata": {},
   "source": [
    "Matrix eigenvalues and eigenvectors:"
   ]
  },
  {
   "cell_type": "code",
   "execution_count": 40,
   "metadata": {},
   "outputs": [
    {
     "name": "stdout",
     "output_type": "stream",
     "text": [
      "(array([-0.37228132,  5.37228132]), array([[-0.82456484, -0.41597356],\n",
      "       [ 0.56576746, -0.90937671]]))\n"
     ]
    }
   ],
   "source": [
    "print(numpy.linalg.eig(A))"
   ]
  },
  {
   "cell_type": "markdown",
   "metadata": {},
   "source": [
    "## Plotting"
   ]
  },
  {
   "cell_type": "markdown",
   "metadata": {},
   "source": [
    "The `matplotlib` library is usually used. The `pyplot` interface is the most straightforward."
   ]
  },
  {
   "cell_type": "code",
   "execution_count": 41,
   "metadata": {},
   "outputs": [],
   "source": [
    "from matplotlib import pyplot"
   ]
  },
  {
   "cell_type": "code",
   "execution_count": 42,
   "metadata": {
    "nbconvert": {
     "hide_code": true
    }
   },
   "outputs": [],
   "source": [
    "%matplotlib inline"
   ]
  },
  {
   "cell_type": "code",
   "execution_count": 43,
   "metadata": {},
   "outputs": [
    {
     "data": {
      "image/png": "[encoded data removed]",
      "text/plain": [
       "<Figure size 432x288 with 1 Axes>"
      ]
     },
     "metadata": {
      "needs_background": "light"
     },
     "output_type": "display_data"
    }
   ],
   "source": [
    "x = numpy.linspace(0, 5)\n",
    "y = numpy.sin(x)\n",
    "pyplot.plot(x, y)\n",
    "pyplot.show()"
   ]
  },
  {
   "cell_type": "markdown",
   "metadata": {},
   "source": [
    "We can set the axis labels, the limits of the plots, the title:"
   ]
  },
  {
   "cell_type": "code",
   "execution_count": 44,
   "metadata": {},
   "outputs": [
    {
     "data": {
      "image/png": "[encoded data removed]",
      "text/plain": [
       "<Figure size 432x288 with 1 Axes>"
      ]
     },
     "metadata": {
      "needs_background": "light"
     },
     "output_type": "display_data"
    }
   ],
   "source": [
    "x = numpy.linspace(0, 5)\n",
    "y = numpy.sin(x)\n",
    "pyplot.plot(x, y)\n",
    "pyplot.xlabel(\"x\")\n",
    "pyplot.ylabel(\"sin(x)\")\n",
    "pyplot.xlim(1, 4)\n",
    "pyplot.ylim(-1.1, 1.1)\n",
    "pyplot.title(\"A plot\")\n",
    "pyplot.show()"
   ]
  },
  {
   "cell_type": "markdown",
   "metadata": {},
   "source": [
    "For prettier mathematics we can use LaTeX by surrounding the text with `$$`. However, we should ensure the string is *raw* by putting `r` before it:"
   ]
  },
  {
   "cell_type": "code",
   "execution_count": 45,
   "metadata": {},
   "outputs": [
    {
     "data": {
      "image/png": "[encoded data removed]",
      "text/plain": [
       "<Figure size 432x288 with 1 Axes>"
      ]
     },
     "metadata": {
      "needs_background": "light"
     },
     "output_type": "display_data"
    }
   ],
   "source": [
    "x = numpy.linspace(0, 5)\n",
    "y = numpy.sin(x)\n",
    "pyplot.plot(x, y)\n",
    "pyplot.xlabel(r\"$x$\")\n",
    "pyplot.ylabel(r\"$\\sin(x)$\")\n",
    "pyplot.show()"
   ]
  },
  {
   "cell_type": "markdown",
   "metadata": {},
   "source": [
    "For surface plots we need to construct matrices, or arrays, for the coordinates and the thing to plot."
   ]
  },
  {
   "cell_type": "code",
   "execution_count": 46,
   "metadata": {},
   "outputs": [],
   "source": [
    "x = numpy.linspace(0, 2, 40)\n",
    "y = numpy.linspace(0, 1, 50)\n",
    "X, Y = numpy.meshgrid(x, y)\n",
    "Z = numpy.exp(-X) * numpy.sin(X**2 + Y**2)"
   ]
  },
  {
   "cell_type": "markdown",
   "metadata": {},
   "source": [
    "Then we need to construct a 3D *axis* on which we can plot:"
   ]
  },
  {
   "cell_type": "code",
   "execution_count": 47,
   "metadata": {},
   "outputs": [],
   "source": [
    "from mpl_toolkits.mplot3d.axes3d import Axes3D"
   ]
  },
  {
   "cell_type": "code",
   "execution_count": 48,
   "metadata": {},
   "outputs": [
    {
     "data": {
      "image/png": "[encoded data removed]",
      "text/plain": [
       "<Figure size 432x288 with 1 Axes>"
      ]
     },
     "metadata": {
      "needs_background": "light"
     },
     "output_type": "display_data"
    }
   ],
   "source": [
    "fig = pyplot.figure()\n",
    "axis = fig.add_subplot(1, 1, 1, projection='3d')\n",
    "\n",
    "axis.plot_surface(X, Y, Z)\n",
    "pyplot.show()"
   ]
  },
  {
   "cell_type": "markdown",
   "metadata": {},
   "source": [
    "We can plot every row and column line by changing arguments, and change the colourmap:"
   ]
  },
  {
   "cell_type": "code",
   "execution_count": 49,
   "metadata": {},
   "outputs": [
    {
     "data": {
      "image/png": "[encoded data removed]",
      "text/plain": [
       "<Figure size 432x288 with 1 Axes>"
      ]
     },
     "metadata": {
      "needs_background": "light"
     },
     "output_type": "display_data"
    }
   ],
   "source": [
    "from matplotlib import cm\n",
    "\n",
    "fig = pyplot.figure()\n",
    "axis = fig.add_subplot(1, 1, 1, projection='3d')\n",
    "\n",
    "axis.plot_surface(X, Y, Z, rstride=2, cstride=2, cmap=cm.viridis)\n",
    "pyplot.show()"
   ]
  },
  {
   "cell_type": "markdown",
   "metadata": {},
   "source": [
    "## Black box solvers"
   ]
  },
  {
   "cell_type": "markdown",
   "metadata": {},
   "source": [
    "The `scipy` package will solve many problems for you.\n",
    "\n",
    "The most important parts for our purposes are the `optimize` package, for root finding:"
   ]
  },
  {
   "cell_type": "code",
   "execution_count": 50,
   "metadata": {},
   "outputs": [
    {
     "name": "stdout",
     "output_type": "stream",
     "text": [
      "Root is 1.278464542761074\n"
     ]
    }
   ],
   "source": [
    "from scipy import optimize\n",
    "\n",
    "def f(x):\n",
    "    return numpy.exp(-x) - x + 1\n",
    "\n",
    "root = optimize.brentq(f, 0, 2)\n",
    "print(\"Root is\", root)"
   ]
  },
  {
   "cell_type": "markdown",
   "metadata": {},
   "source": [
    "And the `integrate` package, for quadratures and solving differential equations:"
   ]
  },
  {
   "cell_type": "code",
   "execution_count": 51,
   "metadata": {},
   "outputs": [
    {
     "name": "stdout",
     "output_type": "stream",
     "text": [
      "Integral is 1.1321205588285577\n"
     ]
    }
   ],
   "source": [
    "from scipy import integrate\n",
    "\n",
    "quadrature, error = integrate.quad(f, 0, 1)\n",
    "print(\"Integral is\", quadrature)"
   ]
  }
 ],
 "metadata": {
  "anaconda-cloud": {},
  "kernelspec": {
   "display_name": "Python 3",
   "language": "python",
   "name": "python3"
  },
  "language_info": {
   "codemirror_mode": {
    "name": "ipython",
    "version": 3
   },
   "file_extension": ".py",
   "mimetype": "text/x-python",
   "name": "python",
   "nbconvert_exporter": "python",
   "pygments_lexer": "ipython3",
   "version": "3.6.6"
  }
 },
 "nbformat": 4,
 "nbformat_minor": 1
}
