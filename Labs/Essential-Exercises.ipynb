{
 "cells": [
  {
   "cell_type": "markdown",
   "metadata": {},
   "source": [
    "# Essential Exercises"
   ]
  },
  {
   "cell_type": "markdown",
   "metadata": {},
   "source": [
    "Here are a list of exercises to check your knowledge of Python."
   ]
  },
  {
   "cell_type": "markdown",
   "metadata": {},
   "source": [
    "## Scalars, vectors and matrices"
   ]
  },
  {
   "cell_type": "markdown",
   "metadata": {},
   "source": [
    "* Assign the result of $1 + 2.3^{3.4} - \\tfrac{5}{6}$ to the variable `check1`."
   ]
  },
  {
   "cell_type": "code",
   "execution_count": null,
   "metadata": {
    "nbconvert": {
     "hide_solution": true
    }
   },
   "outputs": [],
   "source": [
    "check1 = 1 + 2.3**3.4 - 5/6\n",
    "print(\"check1 is\", check1)"
   ]
  },
  {
   "cell_type": "markdown",
   "metadata": {},
   "source": [
    "* Enter the vector ${\\bf x} = \\begin{pmatrix} 1 & 2 \\end{pmatrix}$ as the variable `x`. Print its shape. Assign its transpose to `y`, and print the shape of `y`."
   ]
  },
  {
   "cell_type": "code",
   "execution_count": null,
   "metadata": {
    "nbconvert": {
     "hide_solution": true
    }
   },
   "outputs": [],
   "source": [
    "import numpy\n",
    "x = numpy.array([1, 2])\n",
    "print(\"Shape of x is\", x.shape)\n",
    "y = x.T\n",
    "print(\"Shape of y is\", y.shape)"
   ]
  },
  {
   "cell_type": "markdown",
   "metadata": {},
   "source": [
    "* Enter the array $A = \\begin{pmatrix} 2 & 3 \\\\ 6 & 5 \\end{pmatrix}$. Print its length, size and shape."
   ]
  },
  {
   "cell_type": "code",
   "execution_count": null,
   "metadata": {
    "nbconvert": {
     "hide_solution": true
    }
   },
   "outputs": [],
   "source": [
    "A = numpy.array( [ [2, 3],\n",
    "                   [6, 5] ] )\n",
    "print(\"length\", len(A))\n",
    "print(\"size\", A.size)\n",
    "print(\"shape\", A.shape)"
   ]
  },
  {
   "cell_type": "markdown",
   "metadata": {},
   "source": [
    "* Multiply ${\\bf y}$ by $A$ to check that it is an eigenvector. Compute all eigenvectors and eigenvalues of $A$."
   ]
  },
  {
   "cell_type": "code",
   "execution_count": null,
   "metadata": {
    "nbconvert": {
     "hide_solution": true
    }
   },
   "outputs": [],
   "source": [
    "print(\"Compare y to A.y\", y, numpy.dot(A, y))\n",
    "lamda, V = numpy.linalg.eig(A)\n",
    "print(\"Eigenvalues\", lamda)\n",
    "print(\"Eigenvectors\", V[:,0], V[:,1])"
   ]
  },
  {
   "cell_type": "markdown",
   "metadata": {},
   "source": [
    "* Print the *matrix* square of $A$. Print the *elementwise* square of $A$."
   ]
  },
  {
   "cell_type": "code",
   "execution_count": null,
   "metadata": {
    "nbconvert": {
     "hide_solution": true
    }
   },
   "outputs": [],
   "source": [
    "print(\"Matrix square of A\", numpy.dot(A, A))\n",
    "print(\"Matrix square of A using latest Python command\", A @ A)\n",
    "print(\"Another alternative: Matrix square of A\", numpy.linalg.matrix_power(A, 2))\n",
    "print(\"Elementwise square of A\", A**2)"
   ]
  },
  {
   "cell_type": "markdown",
   "metadata": {},
   "source": [
    "* Compute the matrix exponential and the condition number of $A$."
   ]
  },
  {
   "cell_type": "code",
   "execution_count": null,
   "metadata": {
    "nbconvert": {
     "hide_solution": true
    }
   },
   "outputs": [],
   "source": [
    "import scipy.linalg\n",
    "print(\"Matrix exponential\", scipy.linalg.expm(A))\n",
    "print(\"Condition number\", numpy.linalg.cond(A))"
   ]
  },
  {
   "cell_type": "markdown",
   "metadata": {},
   "source": [
    "* Construct a vector `v` of size $8$ whose entries are $1 + 10^{-4} \\times R$ where $R$ is a uniformly distributed random number between $0$ and $1$."
   ]
  },
  {
   "cell_type": "code",
   "execution_count": null,
   "metadata": {
    "nbconvert": {
     "hide_solution": true
    }
   },
   "outputs": [],
   "source": [
    "v = 1 + 1e-4 * numpy.random.rand(8)\n",
    "print(v)"
   ]
  },
  {
   "cell_type": "markdown",
   "metadata": {},
   "source": [
    "* Create a matrix $B$ whose diagonal is given by `v` with all other entries zero. Create a matrix whose only non-zero entries are `v` on a diagonal one above the main diagonal."
   ]
  },
  {
   "cell_type": "code",
   "execution_count": null,
   "metadata": {
    "nbconvert": {
     "hide_solution": true
    }
   },
   "outputs": [],
   "source": [
    "B = numpy.diag(v)\n",
    "print(B)\n",
    "C = numpy.diag(v, 1)\n",
    "print(C)"
   ]
  },
  {
   "cell_type": "markdown",
   "metadata": {},
   "source": [
    "* Compute and print the determinant and trace of $B$."
   ]
  },
  {
   "cell_type": "code",
   "execution_count": null,
   "metadata": {
    "nbconvert": {
     "hide_solution": true
    }
   },
   "outputs": [],
   "source": [
    "print(numpy.linalg.det(B))\n",
    "print(numpy.trace(B))"
   ]
  },
  {
   "cell_type": "markdown",
   "metadata": {},
   "source": [
    "* Reshape the vector `v` into a $2 \\times 4$ array and a $2 \\times 2 \\times 2$ array."
   ]
  },
  {
   "cell_type": "code",
   "execution_count": null,
   "metadata": {
    "nbconvert": {
     "hide_solution": true
    }
   },
   "outputs": [],
   "source": [
    "print(numpy.reshape(v, (2, 4)))\n",
    "print(numpy.reshape(v, (2, 2, 2)))"
   ]
  },
  {
   "cell_type": "markdown",
   "metadata": {},
   "source": [
    "## Plotting"
   ]
  },
  {
   "cell_type": "markdown",
   "metadata": {},
   "source": [
    "* Create two arrays `x` and `y`. `x` should contain 80 points equally spaced in $[0, 1]$. `y` should contain 60 points equally spaced in $[0, 2]$. Plot, in different windows, $\\sin(x)$ and $\\exp(-y^2)$."
   ]
  },
  {
   "cell_type": "code",
   "execution_count": null,
   "metadata": {
    "nbconvert": {
     "hide_code": true
    }
   },
   "outputs": [],
   "source": [
    "%matplotlib inline"
   ]
  },
  {
   "cell_type": "code",
   "execution_count": null,
   "metadata": {
    "nbconvert": {
     "hide_solution": true
    }
   },
   "outputs": [],
   "source": [
    "from matplotlib import pyplot\n",
    "\n",
    "x = numpy.linspace(0, 1, 80)\n",
    "y = numpy.linspace(0, 2, 60)"
   ]
  },
  {
   "cell_type": "code",
   "execution_count": null,
   "metadata": {
    "nbconvert": {
     "hide_solution": true
    }
   },
   "outputs": [],
   "source": [
    "pyplot.plot(x, numpy.sin(x))"
   ]
  },
  {
   "cell_type": "code",
   "execution_count": null,
   "metadata": {
    "nbconvert": {
     "hide_solution": true
    }
   },
   "outputs": [],
   "source": [
    "pyplot.plot(y, numpy.exp(-y**2))"
   ]
  },
  {
   "cell_type": "markdown",
   "metadata": {},
   "source": [
    "* Plot both in a single window. Add axis labels, a title, and a legend. Use a black solid line for $\\sin(x)$. Use a red dashed line and circle markers for $\\exp(-y^2)$. Change the range so that the \"x\"-axis only covers $[1/4, 3/4]$."
   ]
  },
  {
   "cell_type": "code",
   "execution_count": null,
   "metadata": {
    "nbconvert": {
     "hide_solution": true
    }
   },
   "outputs": [],
   "source": [
    "fig = pyplot.figure()\n",
    "ax = fig.add_subplot(111)\n",
    "ax.plot(x, numpy.sin(x), 'k-', label=r\"\\sin(x)\")\n",
    "ax.plot(y, numpy.exp(-y**2), 'r--', label=r\"\\exp(-y^2)\")\n",
    "ax.set_xlabel(\"Coordinate\")\n",
    "ax.set_ylabel(\"Functions\")\n",
    "ax.legend()\n",
    "ax.set_title(\"Two different functions\")\n",
    "ax.set_xlim(1/4, 3/4)\n",
    "pyplot.show()"
   ]
  },
  {
   "cell_type": "markdown",
   "metadata": {},
   "source": [
    "* In new windows plot $\\exp(-y^2)$ against $y$ on logarithmic scales (all of $x$ logarithmic but $y$ linear, $y$ logarithmic and $x$ linear, and both logarithmic)."
   ]
  },
  {
   "cell_type": "code",
   "execution_count": null,
   "metadata": {
    "nbconvert": {
     "hide_solution": true
    }
   },
   "outputs": [],
   "source": [
    "pyplot.semilogx(y, numpy.exp(-y**2))"
   ]
  },
  {
   "cell_type": "code",
   "execution_count": null,
   "metadata": {
    "nbconvert": {
     "hide_solution": true
    }
   },
   "outputs": [],
   "source": [
    "pyplot.semilogy(y, numpy.exp(-y**2))"
   ]
  },
  {
   "cell_type": "code",
   "execution_count": null,
   "metadata": {
    "nbconvert": {
     "hide_solution": true
    }
   },
   "outputs": [],
   "source": [
    "pyplot.loglog(y, numpy.exp(-y**2))"
   ]
  },
  {
   "cell_type": "markdown",
   "metadata": {},
   "source": [
    "* Construct two-dimensional arrays from `x` and `y`. Use these to plot (in separate windows) surfaces and contours of the function $z = \\cos(2 \\pi x y^2)$."
   ]
  },
  {
   "cell_type": "code",
   "execution_count": null,
   "metadata": {
    "nbconvert": {
     "hide_solution": true
    }
   },
   "outputs": [],
   "source": [
    "X, Y = numpy.meshgrid(x, y)\n",
    "Z = numpy.cos(2 * numpy.pi * X * Y**2)"
   ]
  },
  {
   "cell_type": "code",
   "execution_count": null,
   "metadata": {
    "nbconvert": {
     "hide_solution": true
    }
   },
   "outputs": [],
   "source": [
    "from mpl_toolkits.mplot3d.axes3d import Axes3D"
   ]
  },
  {
   "cell_type": "code",
   "execution_count": null,
   "metadata": {
    "nbconvert": {
     "hide_solution": true
    }
   },
   "outputs": [],
   "source": [
    "fig = pyplot.figure()\n",
    "ax = fig.add_subplot(111, projection='3d')\n",
    "ax.plot_surface(X, Y, Z)"
   ]
  },
  {
   "cell_type": "code",
   "execution_count": null,
   "metadata": {
    "nbconvert": {
     "hide_solution": true
    }
   },
   "outputs": [],
   "source": [
    "pyplot.contour(X, Y, Z)"
   ]
  },
  {
   "cell_type": "markdown",
   "metadata": {},
   "source": [
    "## Black boxes"
   ]
  },
  {
   "cell_type": "markdown",
   "metadata": {},
   "source": [
    "* Compute the quadrature\n",
    "$$\n",
    "  I_1 = \\int_0^1 \\text{d}x \\, \\exp(-x^2 \\cos^2(2 \\pi x)).\n",
    "$$"
   ]
  },
  {
   "cell_type": "code",
   "execution_count": null,
   "metadata": {
    "nbconvert": {
     "hide_solution": true
    }
   },
   "outputs": [],
   "source": [
    "def integrand1(x):\n",
    "    return numpy.exp(-x**2 * numpy.cos(2*numpy.pi*x)**2)\n",
    "\n",
    "import scipy.integrate\n",
    "print(scipy.integrate.quad(integrand1, 0, 1))"
   ]
  },
  {
   "cell_type": "markdown",
   "metadata": {},
   "source": [
    "* Solve the differential equation\n",
    "$$\n",
    "  y' = -\\cos(y(x)), \\quad y(0) = 1, \\quad x \\in [0, 10].\n",
    "$$\n",
    "Plot the solution."
   ]
  },
  {
   "cell_type": "code",
   "execution_count": null,
   "metadata": {
    "nbconvert": {
     "hide_solution": true
    }
   },
   "outputs": [],
   "source": [
    "def integrand2(y, x):\n",
    "    return -numpy.cos(y)\n",
    "\n",
    "x = numpy.linspace(0, 10)\n",
    "y = scipy.integrate.odeint(integrand2, [1], x)\n",
    "\n",
    "pyplot.plot(x, y[:,0])"
   ]
  },
  {
   "cell_type": "markdown",
   "metadata": {},
   "source": [
    "* Solve the differential equation\n",
    "$$\n",
    "  y' = -C(x) y(x), \\quad y(0) = 1, \\quad x \\in [0, 10]\n",
    "$$\n",
    "where the function $C$ is given by\n",
    "$$\n",
    "  C(x) = 1 + \\int_0^x \\text{d}s \\, \\sin^2(s).\n",
    "$$\n",
    "Plot the solution."
   ]
  },
  {
   "cell_type": "code",
   "execution_count": null,
   "metadata": {
    "nbconvert": {
     "hide_solution": true
    }
   },
   "outputs": [],
   "source": [
    "def integrand3(s):\n",
    "    return numpy.sin(s)**2\n",
    "def integrand4(y, x):\n",
    "    integral = scipy.integrate.quad(integrand3, 0, x)\n",
    "    return -(1 + integral[0]) * y\n",
    "\n",
    "x = numpy.linspace(0, 10)\n",
    "y = scipy.integrate.odeint(integrand4, [1], x)\n",
    "\n",
    "pyplot.plot(x, y[:,0])"
   ]
  },
  {
   "cell_type": "markdown",
   "metadata": {},
   "source": [
    "* Solve the system\n",
    "$$\n",
    "  \\frac{\\text{d}}{\\text{d} t} \\begin{pmatrix} x(t) \\\\ y(t) \\end{pmatrix} = \\begin{pmatrix} -y(t) \\\\ x(t) \\end{pmatrix}, \\quad t \\in [0, 500], \\quad \\begin{pmatrix} x(0) \\\\ y(0) \\end{pmatrix} = \\begin{pmatrix} 1 \\\\ 0 \\end{pmatrix}.\n",
    "$$\n",
    "Plot in three subplots $x, y$ against $t$, $x$ against $y$, and $r = \\sqrt{x^2 + y^2}$ against $t$."
   ]
  },
  {
   "cell_type": "code",
   "execution_count": null,
   "metadata": {
    "nbconvert": {
     "hide_solution": true
    }
   },
   "outputs": [],
   "source": [
    "def integrand5(z, t):\n",
    "    dzdt = numpy.zeros_like(z)\n",
    "    dzdt[0] = -z[1]\n",
    "    dzdt[1] = z[0]\n",
    "    return dzdt\n",
    "\n",
    "z0 = [1, 0]\n",
    "t = numpy.linspace(0, 500, 5000)\n",
    "z = scipy.integrate.odeint(integrand5, [1, 0], t)\n",
    "\n",
    "x = z[:,0]\n",
    "y = z[:,1]\n",
    "fig, axes = pyplot.subplots(ncols=3)\n",
    "axes[0].plot(t, x, label=r\"$x$\")\n",
    "axes[0].plot(t, y, label=r\"$y$\")\n",
    "axes[0].legend()\n",
    "axes[0].set_xlabel(r\"$t$\")\n",
    "axes[1].plot(x, y)\n",
    "axes[1].set_xlabel(r\"$x$\")\n",
    "axes[1].set_ylabel(r\"$y$\")\n",
    "axes[2].plot(t, numpy.sqrt(x**2 + y**2))\n",
    "axes[2].set_xlabel(r\"$t$\")\n",
    "axes[2].set_ylabel(r\"$r$\")\n",
    "fig.tight_layout()\n",
    "pyplot.show()"
   ]
  },
  {
   "cell_type": "markdown",
   "metadata": {},
   "source": [
    "* Find the root of $f(x) = \\cos(x) - x$ that lies in $[0, 1]$."
   ]
  },
  {
   "cell_type": "code",
   "execution_count": null,
   "metadata": {
    "nbconvert": {
     "hide_solution": true
    }
   },
   "outputs": [],
   "source": [
    "import scipy.optimize\n",
    "\n",
    "def root_function(x):\n",
    "    return numpy.cos(x) - x\n",
    "\n",
    "print(scipy.optimize.brentq(root_function, 0, 1))"
   ]
  }
 ],
 "metadata": {
  "celltoolbar": "Edit Metadata",
  "kernelspec": {
   "display_name": "Python 3",
   "language": "python",
   "name": "python3"
  },
  "language_info": {
   "codemirror_mode": {
    "name": "ipython",
    "version": 3
   },
   "file_extension": ".py",
   "mimetype": "text/x-python",
   "name": "python",
   "nbconvert_exporter": "python",
   "pygments_lexer": "ipython3",
   "version": "3.6.6"
  }
 },
 "nbformat": 4,
 "nbformat_minor": 2
}
