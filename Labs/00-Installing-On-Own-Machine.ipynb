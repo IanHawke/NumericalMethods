{
 "cells": [
  {
   "cell_type": "markdown",
   "metadata": {},
   "source": [
    "# Python on your own machine"
   ]
  },
  {
   "cell_type": "markdown",
   "metadata": {},
   "source": [
    "Python is free software. If you want to run it on your own machine, you may well already have many of the key pieces installed. However, I strongly recommend that you install the [Anaconda Python distribution](http://docs.continuum.io/anaconda/). as it's easier to keep everything consistent and up to date."
   ]
  },
  {
   "cell_type": "markdown",
   "metadata": {},
   "source": [
    "## Anaconda"
   ]
  },
  {
   "cell_type": "markdown",
   "metadata": {},
   "source": [
    "If you have enough bandwidth and time (you will be downloading about 1G of software) then you can use the [Anaconda graphical installer](https://www.anaconda.com/download). There are two versions of Python: a Python `2.X` and a Python `3.X`. There are small differences between the two. Everything we show here will work on either version. We will be using the `3.X` version.\n",
    "\n",
    "The Anaconda package installs both the essential Python package and a large amount of useful Python software. It will put a launcher icon on your desktop. Clicking on the launcher will bring up a window listing a number of applications: we will be using `spyder`."
   ]
  },
  {
   "cell_type": "markdown",
   "metadata": {},
   "source": [
    "## miniconda"
   ]
  },
  {
   "cell_type": "markdown",
   "metadata": {},
   "source": [
    "If you do not want to download all the Python packages, but only the essential ones, there is a smaller version of Anaconda, called miniconda. First, [download the miniconda package](http://conda.pydata.org/miniconda.html) for your computer. Again, we will be using the `3.X` version.\n",
    "\n",
    "The miniconda package installs the basic Python and little else. There are a number of useful packages that we will use. You can install those using the `conda` app (either via the launcher, or via the command line). But before doing that, it is best to create an environment to install them in, which you can modify without causing problems."
   ]
  },
  {
   "cell_type": "markdown",
   "metadata": {},
   "source": [
    "## Environments"
   ]
  },
  {
   "cell_type": "markdown",
   "metadata": {},
   "source": [
    "Packages may rely on other packages, and may rely on *specific versions* of other packages in order to work. This can lead to \"dependency hell\", when you need (for different purposes) package `A` and package `B` which rely on conflicting versions of package `C`.\n",
    "\n",
    "The answer to this is *environments*, which allow you to organize your different packages to minimize conflicts. Environments are like folders, and you have one for each project you are working on. That way, you ensure that updating or installing packages for one project does not cause problems for a different project.\n",
    "\n",
    "To create and use environments we can either use the Anaconda Navigator (if the graphical installer has been used), or the command line via a terminal (which works in all cases, but is probably necessary if miniconda has been used)."
   ]
  },
  {
   "cell_type": "markdown",
   "metadata": {},
   "source": [
    "### Environments through Navigator"
   ]
  },
  {
   "cell_type": "markdown",
   "metadata": {},
   "source": [
    "Launch the Anaconda Navigator (either from a desktop launcher icon, or a start/search bar, or however you find it). On the left tab select `Environments`. At the bottom, select `Create`. For the name, type `numericalmethods` into the box, and ensure that `Python` is selected. Wait for the environment to be created. Once it has been created, we need to add packages. Change the drop-down menu at the top from `Installed` to `Not installed`. Ensure that you select (using the checkbox) each of\n",
    "\n",
    "\n",
    "* `ipython`\n",
    "* `numpy`\n",
    "* `matplotlib`\n",
    "* `scipy`\n",
    "* `spyder`\n",
    "\n",
    "Other packages that will be useful are\n",
    "\n",
    "* `jupyter`\n",
    "* `pytest`\n",
    "* `sympy`\n",
    "\n",
    "Once all the packages are selected, click `Apply` in the bottom right and wait for the installation to complete.\n",
    "\n",
    "Each time you open the Navigator, before launching applications on the Home tab, you check the environment through the `Applications on ...` and select the environment you want.\n",
    "\n",
    "Environments can be selected and modified through the command line: check the Anaconda webpages for more details."
   ]
  },
  {
   "cell_type": "markdown",
   "metadata": {},
   "source": [
    "### Environments through Terminals"
   ]
  },
  {
   "cell_type": "markdown",
   "metadata": {},
   "source": [
    "A *terminal*, or a command prompt window, is a window where commands can be typed in to directly run commands or affect files. On Windows you select the `Command Prompt` from the Accessories menu, or from the `Windows System` menu in Windows 10. On Mac or Linux system you open a terminal or an XTerm. Inside the terminal you can change directories using the `cd` command, and run commands associated with Anaconda or miniconda using the `conda` command."
   ]
  },
  {
   "cell_type": "markdown",
   "metadata": {},
   "source": [
    "#### Creating the environment"
   ]
  },
  {
   "cell_type": "markdown",
   "metadata": {},
   "source": [
    "We will create a single environment called `numericalmethods`. If you are running on a Mac or on Linux, open a terminal. If on Windows, use a command prompt. Then type\n",
    "\n",
    "```bash\n",
    "conda create -n numericalmethods python=3\n",
    "```\n",
    "\n",
    "This creates the new environment, and installs the basic `python` package in the `python 3.X` flavour. It does not activate the environment. In order to work within this environment, if using Windows type\n",
    "\n",
    "```bash\n",
    "activate numericalmethods\n",
    "```\n",
    "\n",
    "If using Mac or Linux type\n",
    "\n",
    "```bash\n",
    "source activate numericalmethods\n",
    "```\n",
    "\n",
    "Then any command launched from the terminal or command prompt will use the packages in this environment."
   ]
  },
  {
   "cell_type": "markdown",
   "metadata": {},
   "source": [
    "#### Adding packages"
   ]
  },
  {
   "cell_type": "markdown",
   "metadata": {},
   "source": [
    "After creating the environment, and activating it, the key packages that need installing *inside this environment* are:\n",
    "\n",
    "* `ipython`\n",
    "* `numpy`\n",
    "* `matplotlib`\n",
    "* `scipy`\n",
    "* `spyder`\n",
    "\n",
    "Other packages that will be useful are\n",
    "\n",
    "* `jupyter`\n",
    "* `pytest`\n",
    "* `sympy`\n",
    "\n",
    "The command to install new packages is `conda install`. So, to install the packages above type (or copy and paste) first\n",
    "\n",
    "```bash\n",
    "activate numericalmethods\n",
    "```\n",
    "\n",
    "if on Windows, or \n",
    "\n",
    "```bash\n",
    "source activate numericalmethods\n",
    "```\n",
    "\n",
    "if on Mac or Linux, and then type\n",
    "\n",
    "```bash\n",
    "conda install ipython numpy matplotlib scipy spyder jupyter pytest\n",
    "```\n",
    "\n",
    "This will download and install a lot of additional packages that are needed; just agree and continue."
   ]
  }
 ],
 "metadata": {
  "anaconda-cloud": {},
  "kernelspec": {
   "display_name": "Python 3",
   "language": "python",
   "name": "python3"
  },
  "language_info": {
   "codemirror_mode": {
    "name": "ipython",
    "version": 3
   },
   "file_extension": ".py",
   "mimetype": "text/x-python",
   "name": "python",
   "nbconvert_exporter": "python",
   "pygments_lexer": "ipython3",
   "version": "3.6.6"
  }
 },
 "nbformat": 4,
 "nbformat_minor": 1
}
