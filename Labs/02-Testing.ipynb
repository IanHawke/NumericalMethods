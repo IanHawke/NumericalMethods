{
 "cells": [
  {
   "cell_type": "markdown",
   "metadata": {},
   "source": [
    "# Testing"
   ]
  },
  {
   "cell_type": "markdown",
   "metadata": {},
   "source": [
    "We will spend a lot of time writing algorithms that do some numerical task. We will spend *much* more time fixing errors we've made and checking that they work as expected. This is testing: the constant checking that everything is doing what we want."
   ]
  },
  {
   "cell_type": "markdown",
   "metadata": {},
   "source": [
    "## Fixing code"
   ]
  },
  {
   "cell_type": "markdown",
   "metadata": {},
   "source": [
    "Take a look at the file `lab3_testinverse.py`. The full contents define a single function:"
   ]
  },
  {
   "cell_type": "code",
   "execution_count": 1,
   "metadata": {},
   "outputs": [
    {
     "ename": "SyntaxError",
     "evalue": "invalid syntax (<ipython-input-1-974bac3c1b47>, line 13)",
     "output_type": "error",
     "traceback": [
      "\u001b[0;36m  File \u001b[0;32m\"<ipython-input-1-974bac3c1b47>\"\u001b[0;36m, line \u001b[0;32m13\u001b[0m\n\u001b[0;31m    inverseA = numpy.linalg.inv(A)\u001b[0m\n\u001b[0m           ^\u001b[0m\n\u001b[0;31mSyntaxError\u001b[0m\u001b[0;31m:\u001b[0m invalid syntax\n"
     ]
    }
   ],
   "source": [
    "# This script requires an intro comment\n",
    "def test_inverse(A, tol):\n",
    "    \"\"\"\n",
    "    This function requires documentation.\n",
    "    \"\"\"\n",
    "    import numpy\n",
    "\n",
    "    invtol = 1.0 / tol\n",
    "\n",
    "    assert(numpy.linalg.cond(A) < tol), 'The condition number is too big!'\n",
    "    assert(numpy.linalg.det(A < invtol), 'The determinant of the matrix is too small!'\n",
    "\n",
    "    inverseA = numpy.linalg.inv(A)\n",
    "\n",
    "    return inverseA"
   ]
  },
  {
   "cell_type": "markdown",
   "metadata": {},
   "source": [
    "If you open this in Spyder, or run it as above, you see that there is a syntax error. In fact there are a number of errors. Some of these can be picked up automatically by Spyder. Others need more thought and analysis."
   ]
  },
  {
   "cell_type": "markdown",
   "metadata": {},
   "source": [
    "### Spyder and static code analysis"
   ]
  },
  {
   "cell_type": "markdown",
   "metadata": {},
   "source": [
    "Open the file in Spyder's editor. Look down the left bar of the editor. You should see a big red cross next to the line starting `InverseA ...`. Hovering over that tells you that it's a syntax error.\n",
    "\n",
    "Syntax errors appear at the first place that Python can't work out what's going on. Sometimes it appears directly in the line where there's a problem. Sometimes, particularly when the brackets go wrong, the error is actually in a previous line. The error analysis thinks that the previous line is continuing because the brackets didn't close, and shows an error on the next line.\n",
    "\n",
    "That's the problem in this case: the second `assert` statement hasn't correctly closed the bracket. We should fix that."
   ]
  },
  {
   "cell_type": "code",
   "execution_count": 15,
   "metadata": {},
   "outputs": [],
   "source": [
    "# This script requires an intro comment\n",
    "def test_inverse(A, tol):\n",
    "    \"\"\"\n",
    "    This function requires documentation.\n",
    "    \"\"\"\n",
    "    import numpy\n",
    "\n",
    "    invtol = 1.0 / tol\n",
    "\n",
    "    assert(numpy.linalg.cond(A) < tol), 'The condition number is too big!'\n",
    "    assert(numpy.linalg.det(A < invtol)), 'The determinant of the matrix is too small!'\n",
    "\n",
    "    inverseA = numpy.linalg.inv(A)\n",
    "\n",
    "    return inverseA"
   ]
  },
  {
   "cell_type": "markdown",
   "metadata": {},
   "source": [
    "### Known solutions"
   ]
  },
  {
   "cell_type": "markdown",
   "metadata": {},
   "source": [
    "When starting to test we should always use problems that we know the answer to, and are as simple as possible. For example, the identity matrix should invert to itself. We also know that the condition number of the identity matrix is $1$, so we can use a tolerance of, say, $2$ without problems. Let's try that:"
   ]
  },
  {
   "cell_type": "code",
   "execution_count": 16,
   "metadata": {},
   "outputs": [
    {
     "data": {
      "text/plain": [
       "array([[1., 0.],\n",
       "       [0., 1.]])"
      ]
     },
     "execution_count": 16,
     "metadata": {},
     "output_type": "execute_result"
    }
   ],
   "source": [
    "import numpy\n",
    "I2 = numpy.eye(2)\n",
    "test_inverse(I2, 2)"
   ]
  },
  {
   "cell_type": "markdown",
   "metadata": {},
   "source": [
    "This works, and produces the correct answer. Next we should try a simple matrix. For example, we know that\n",
    "$$\n",
    "A = \\begin{pmatrix} 1 & -1 \\\\ 1 & 1 \\end{pmatrix} \\quad \\implies \\quad A^{-1} = \\frac{1}{2} \\begin{pmatrix} 1 & 1 \\\\ -1 & 1 \\end{pmatrix}.\n",
    "$$"
   ]
  },
  {
   "cell_type": "code",
   "execution_count": 17,
   "metadata": {},
   "outputs": [
    {
     "name": "stdout",
     "output_type": "stream",
     "text": [
      "[[ True False]\n",
      " [ True  True]]\n"
     ]
    },
    {
     "ename": "AssertionError",
     "evalue": "The determinant of the matrix is too small!",
     "output_type": "error",
     "traceback": [
      "\u001b[0;31m---------------------------------------------------------------------------\u001b[0m",
      "\u001b[0;31mAssertionError\u001b[0m                            Traceback (most recent call last)",
      "\u001b[0;32m<ipython-input-17-d728a5815b78>\u001b[0m in \u001b[0;36m<module>\u001b[0;34m()\u001b[0m\n\u001b[1;32m      1\u001b[0m \u001b[0mA\u001b[0m \u001b[0;34m=\u001b[0m \u001b[0mnumpy\u001b[0m\u001b[0;34m.\u001b[0m\u001b[0marray\u001b[0m\u001b[0;34m(\u001b[0m\u001b[0;34m[\u001b[0m\u001b[0;34m[\u001b[0m\u001b[0;36m1\u001b[0m\u001b[0;34m,\u001b[0m \u001b[0;34m-\u001b[0m\u001b[0;36m1\u001b[0m\u001b[0;34m]\u001b[0m\u001b[0;34m,\u001b[0m \u001b[0;34m[\u001b[0m\u001b[0;36m1\u001b[0m\u001b[0;34m,\u001b[0m \u001b[0;36m1\u001b[0m\u001b[0;34m]\u001b[0m\u001b[0;34m]\u001b[0m\u001b[0;34m)\u001b[0m\u001b[0;34m\u001b[0m\u001b[0m\n\u001b[1;32m      2\u001b[0m \u001b[0mprint\u001b[0m\u001b[0;34m(\u001b[0m\u001b[0mA\u001b[0m \u001b[0;34m>\u001b[0m \u001b[0;36m1\u001b[0m\u001b[0;34m/\u001b[0m\u001b[0;36m2\u001b[0m\u001b[0;34m)\u001b[0m\u001b[0;34m\u001b[0m\u001b[0m\n\u001b[0;32m----> 3\u001b[0;31m \u001b[0mtest_inverse\u001b[0m\u001b[0;34m(\u001b[0m\u001b[0mA\u001b[0m\u001b[0;34m,\u001b[0m \u001b[0;36m2\u001b[0m\u001b[0;34m)\u001b[0m\u001b[0;34m\u001b[0m\u001b[0m\n\u001b[0m",
      "\u001b[0;32m<ipython-input-15-80f8f828f53c>\u001b[0m in \u001b[0;36mtest_inverse\u001b[0;34m(A, tol)\u001b[0m\n\u001b[1;32m      9\u001b[0m \u001b[0;34m\u001b[0m\u001b[0m\n\u001b[1;32m     10\u001b[0m     \u001b[0;32massert\u001b[0m\u001b[0;34m(\u001b[0m\u001b[0mnumpy\u001b[0m\u001b[0;34m.\u001b[0m\u001b[0mlinalg\u001b[0m\u001b[0;34m.\u001b[0m\u001b[0mcond\u001b[0m\u001b[0;34m(\u001b[0m\u001b[0mA\u001b[0m\u001b[0;34m)\u001b[0m \u001b[0;34m<\u001b[0m \u001b[0mtol\u001b[0m\u001b[0;34m)\u001b[0m\u001b[0;34m,\u001b[0m \u001b[0;34m'The condition number is too big!'\u001b[0m\u001b[0;34m\u001b[0m\u001b[0m\n\u001b[0;32m---> 11\u001b[0;31m     \u001b[0;32massert\u001b[0m\u001b[0;34m(\u001b[0m\u001b[0mnumpy\u001b[0m\u001b[0;34m.\u001b[0m\u001b[0mlinalg\u001b[0m\u001b[0;34m.\u001b[0m\u001b[0mdet\u001b[0m\u001b[0;34m(\u001b[0m\u001b[0mA\u001b[0m \u001b[0;34m<\u001b[0m \u001b[0minvtol\u001b[0m\u001b[0;34m)\u001b[0m\u001b[0;34m)\u001b[0m\u001b[0;34m,\u001b[0m \u001b[0;34m'The determinant of the matrix is too small!'\u001b[0m\u001b[0;34m\u001b[0m\u001b[0m\n\u001b[0m\u001b[1;32m     12\u001b[0m \u001b[0;34m\u001b[0m\u001b[0m\n\u001b[1;32m     13\u001b[0m     \u001b[0minverseA\u001b[0m \u001b[0;34m=\u001b[0m \u001b[0mnumpy\u001b[0m\u001b[0;34m.\u001b[0m\u001b[0mlinalg\u001b[0m\u001b[0;34m.\u001b[0m\u001b[0minv\u001b[0m\u001b[0;34m(\u001b[0m\u001b[0mA\u001b[0m\u001b[0;34m)\u001b[0m\u001b[0;34m\u001b[0m\u001b[0m\n",
      "\u001b[0;31mAssertionError\u001b[0m: The determinant of the matrix is too small!"
     ]
    }
   ],
   "source": [
    "A = numpy.array([[1, -1], [1, 1]])\n",
    "test_inverse(A, 2)"
   ]
  },
  {
   "cell_type": "markdown",
   "metadata": {},
   "source": [
    "What has gone wrong here? The error message shows a problem with the second `assert` statement. Now, we can compute the determinant of $A$ by hand - it is $2$. With a tolerance of $2$, the inverse tolerance is $1/2$. Clearly $2$ is not less than $1/2$!\n",
    "\n",
    "Let's pull the code out from the `assert` statement:"
   ]
  },
  {
   "cell_type": "code",
   "execution_count": 19,
   "metadata": {},
   "outputs": [
    {
     "data": {
      "text/plain": [
       "0.0"
      ]
     },
     "execution_count": 19,
     "metadata": {},
     "output_type": "execute_result"
    }
   ],
   "source": [
    "invtol = 1/2\n",
    "numpy.linalg.det(A < invtol)"
   ]
  },
  {
   "cell_type": "markdown",
   "metadata": {},
   "source": [
    "Now that we have pulled this out, it's clearer that the brackets are in the wrong place. The test *should* be more like:"
   ]
  },
  {
   "cell_type": "code",
   "execution_count": 20,
   "metadata": {},
   "outputs": [
    {
     "data": {
      "text/plain": [
       "False"
      ]
     },
     "execution_count": 20,
     "metadata": {},
     "output_type": "execute_result"
    }
   ],
   "source": [
    "numpy.linalg.det(A) < invtol"
   ]
  },
  {
   "cell_type": "markdown",
   "metadata": {},
   "source": [
    "Let's fix that in the code, and then apply some thought:"
   ]
  },
  {
   "cell_type": "code",
   "execution_count": 21,
   "metadata": {},
   "outputs": [],
   "source": [
    "# This script requires an intro comment\n",
    "def test_inverse(A, tol):\n",
    "    \"\"\"\n",
    "    This function requires documentation.\n",
    "    \"\"\"\n",
    "    import numpy\n",
    "\n",
    "    invtol = 1.0 / tol\n",
    "\n",
    "    assert(numpy.linalg.cond(A) < tol), 'The condition number is too big!'\n",
    "    assert(numpy.linalg.det(A) < invtol), 'The determinant of the matrix is too small!'\n",
    "\n",
    "    inverseA = numpy.linalg.inv(A)\n",
    "\n",
    "    return inverseA"
   ]
  },
  {
   "cell_type": "markdown",
   "metadata": {},
   "source": [
    "### Documentation"
   ]
  },
  {
   "cell_type": "markdown",
   "metadata": {},
   "source": [
    "There should now be no errors shown by Spyder. That doesn't mean the code is correct: it just means it can be run. Before we go further, we should first be clear as to what it's meant to do, by fixing the documentation. The crucial thing is to complete the docstring:"
   ]
  },
  {
   "cell_type": "code",
   "execution_count": 3,
   "metadata": {},
   "outputs": [],
   "source": [
    "# This function should safely invert a matrix, by checking its condition number\n",
    "# and determinant\n",
    "def test_inverse(A, tol):\n",
    "    \"\"\"\n",
    "    Invert the matrix, assuming the condition number is smaller than the\n",
    "    tolerance and the determinant is bigger than the inverse of the\n",
    "    tolerance.\n",
    "\n",
    "    Parameters\n",
    "    ----------\n",
    "\n",
    "    A : array of float\n",
    "        matrix to be inverted\n",
    "    tol : float\n",
    "        tolerance\n",
    "\n",
    "    Returns\n",
    "    -------\n",
    "\n",
    "    Inverse A : array of float\n",
    "        inverse of A\n",
    "\n",
    "    Notes\n",
    "    -----\n",
    "\n",
    "    This function relies heavily on numpy to do all real calculations.\n",
    "    \"\"\"\n",
    "    import numpy\n",
    "\n",
    "    invtol = 1.0 / tol\n",
    "\n",
    "    assert(numpy.linalg.cond(A) < tol), 'The condition number is too big!'\n",
    "    assert(numpy.linalg.det(A) < invtol), 'The determinant of the matrix is too small!'\n",
    "\n",
    "    inverseA = numpy.linalg.inv(A)\n",
    "\n",
    "    return inverseA"
   ]
  },
  {
   "cell_type": "markdown",
   "metadata": {},
   "source": [
    "The explicit description in the docstring says that the condition number must be *smaller* than the tolerance, and the matrix determinant *bigger* than the inverse of the tolerance. Looking at the code, we can see that both `assert` statements use the same inequality, `<`. Therefore one must be wrong, and again it's the second. Let's fix that:"
   ]
  },
  {
   "cell_type": "code",
   "execution_count": 22,
   "metadata": {},
   "outputs": [],
   "source": [
    "# This function should safely invert a matrix, by checking its condition number\n",
    "# and determinant\n",
    "def test_inverse(A, tol):\n",
    "    \"\"\"\n",
    "    Invert the matrix, assuming the condition number is smaller than the\n",
    "    tolerance and the determinant is bigger than the inverse of the\n",
    "    tolerance.\n",
    "\n",
    "    Parameters\n",
    "    ----------\n",
    "\n",
    "    A : array of float\n",
    "        matrix to be inverted\n",
    "    tol : float\n",
    "        tolerance\n",
    "\n",
    "    Returns\n",
    "    -------\n",
    "\n",
    "    Inverse A : array of float\n",
    "        inverse of A\n",
    "\n",
    "    Notes\n",
    "    -----\n",
    "\n",
    "    This function relies heavily on numpy to do all real calculations.\n",
    "    \"\"\"\n",
    "    import numpy\n",
    "\n",
    "    invtol = 1.0 / tol\n",
    "\n",
    "    assert(numpy.linalg.cond(A) < tol), 'The condition number is too big!'\n",
    "    assert(numpy.linalg.det(A) > invtol), 'The determinant of the matrix is too small!'\n",
    "\n",
    "    inverseA = numpy.linalg.inv(A)\n",
    "\n",
    "    return inverseA"
   ]
  },
  {
   "cell_type": "markdown",
   "metadata": {},
   "source": [
    "With that fixed, we should now be able to check the matrix from before:"
   ]
  },
  {
   "cell_type": "code",
   "execution_count": 23,
   "metadata": {},
   "outputs": [
    {
     "data": {
      "text/plain": [
       "array([[ 0.5,  0.5],\n",
       "       [-0.5,  0.5]])"
      ]
     },
     "execution_count": 23,
     "metadata": {},
     "output_type": "execute_result"
    }
   ],
   "source": [
    "A = numpy.array([[1, -1], [1, 1]])\n",
    "test_inverse(A, 2)"
   ]
  },
  {
   "cell_type": "markdown",
   "metadata": {},
   "source": [
    "### Compare to an oracle"
   ]
  },
  {
   "cell_type": "markdown",
   "metadata": {},
   "source": [
    "We have used the `numpy` matrix inversion here. However, if we *had* written our own code, then we could (and should) use such a routine to cross-check. We could then construct a random matrix and check that our code and the oracle code produce the same, or sufficiently similar, results."
   ]
  },
  {
   "cell_type": "markdown",
   "metadata": {},
   "source": [
    "## Breakpoints"
   ]
  },
  {
   "cell_type": "markdown",
   "metadata": {},
   "source": [
    "Sometimes looking at the code and its results is not enough to spot the problem. Instead you need information as to what it's doing as it steps through long loops or complex branches.\n",
    "\n",
    "Download the `lab3_testsequence.py` file and open in Spyder:"
   ]
  },
  {
   "cell_type": "code",
   "execution_count": 25,
   "metadata": {},
   "outputs": [
    {
     "name": "stdout",
     "output_type": "stream",
     "text": [
      "(8.881784197001252e-16, 2.9999999999999982)\n"
     ]
    }
   ],
   "source": [
    "def test_sequence(N):\n",
    "    \"\"\"\n",
    "    Compute the infinite sum of 2^{-n} starting from n = 0, truncating\n",
    "    at n = N, returning the value of 2^{-n} and the truncated sum.\n",
    "\n",
    "    Parameters\n",
    "    ----------\n",
    "\n",
    "    N : int\n",
    "        Positive integer, giving the number of terms in the sum\n",
    "\n",
    "    Returns\n",
    "    -------\n",
    "\n",
    "    limit : float\n",
    "        The value of 2^{-N}\n",
    "    sumseq : float\n",
    "        The value of the truncated sum\n",
    "\n",
    "    Notes\n",
    "    -----\n",
    "\n",
    "    The limiting value should be zero, and the value of the sum should\n",
    "    converge to 2.\n",
    "    \"\"\"\n",
    "\n",
    "    # Start sum from zero, so give zeroth term\n",
    "    limit = 1.0\n",
    "    sumseq = 1.0\n",
    "\n",
    "    # At each step, increment sum and change summand\n",
    "    for i in range(1, N+1):\n",
    "        sumseq += limit\n",
    "        limit /= 2.0\n",
    "\n",
    "    return limit, sumseq\n",
    "\n",
    "print(test_sequence(50))"
   ]
  },
  {
   "cell_type": "markdown",
   "metadata": {},
   "source": [
    "This should show no errors, has clear documentation, but the result is wrong: the limit it is meant to compute (the second output) should be $2$, but the result is converging to $3$."
   ]
  },
  {
   "cell_type": "markdown",
   "metadata": {},
   "source": [
    "In Spyder, you can set a breakpoint by clicking next to the line numbers on the left. Click next to any line inside the function, such as the first line inside the loop (`sumseq += limit`). Then, from the `Debug` menu, choose `Run`.\n",
    "\n",
    "This should run the function up to the line with the breakpoint. It stops the function before executing that line. You can now check the `Variable Inspector` to see what the values of the variables are. You can step through the code one line at a time.\n",
    "\n",
    "By comparing what the function is *actually doing* for the first couple of steps, against how you think the sum should *actually behave*, you should see that the problem is the order of operations inside the loop. Swap those two lines and the result will be correct."
   ]
  },
  {
   "cell_type": "markdown",
   "metadata": {},
   "source": [
    "## Automated testing"
   ]
  },
  {
   "cell_type": "markdown",
   "metadata": {},
   "source": [
    "Automated testing is a very useful way of checking that our code behaves as expected. Let's illustrate that by solving the matrix problem $A {\\bf x} = {\\bf b}$."
   ]
  },
  {
   "cell_type": "markdown",
   "metadata": {},
   "source": [
    "## Gauss Elimination"
   ]
  },
  {
   "cell_type": "markdown",
   "metadata": {},
   "source": [
    "In lectures we saw the Gaussian Elimination algorithm. This takes the augmented matrix and applies row operations until the matrix is in diagonal form, and then uses back substitution to find the solution.\n",
    "\n",
    "Let's write that out in code:"
   ]
  },
  {
   "cell_type": "code",
   "execution_count": 1,
   "metadata": {},
   "outputs": [],
   "source": [
    "import numpy\n",
    "\n",
    "def gauss_elimination(A, b):\n",
    "    \"\"\"\n",
    "    Solve A x = b\n",
    "    \"\"\"\n",
    "    n = len(b)\n",
    "    aug = numpy.hstack((A, b))\n",
    "    # Elimination\n",
    "    for col in range(n):\n",
    "        for row in range(col+1,n):\n",
    "            pivot = aug[row,col] / aug[col,col]\n",
    "            aug[row,:] -= pivot * aug[col,:]\n",
    "    # Back substitution\n",
    "    x = numpy.zeros_like(b)\n",
    "    for row in range(n-1,-1,-1):\n",
    "        x[row] = aug[row, -1] / aug[row, row]\n",
    "        for col in range(row+1,n):\n",
    "            x[row] -=  aug[row, col] * x[col] / aug[row, row]\n",
    "    return x"
   ]
  },
  {
   "cell_type": "markdown",
   "metadata": {},
   "source": [
    "So, does this work? To check it, let's look at the simplest case:\n",
    "\n",
    "$$\n",
    "A = \\begin{pmatrix} 1 & 0 \\\\ 0 & 1 \\end{pmatrix}, \\quad {\\bf b} = \\begin{pmatrix} 1 \\\\ 1 \\end{pmatrix} \\quad \\implies \\quad {\\bf x} = {\\bf b}.\n",
    "$$"
   ]
  },
  {
   "cell_type": "code",
   "execution_count": 2,
   "metadata": {},
   "outputs": [
    {
     "ename": "ValueError",
     "evalue": "all the input arrays must have same number of dimensions",
     "output_type": "error",
     "traceback": [
      "\u001b[0;31m---------------------------------------------------------------------------\u001b[0m",
      "\u001b[0;31mValueError\u001b[0m                                Traceback (most recent call last)",
      "\u001b[0;32m<ipython-input-2-dd4a3b533971>\u001b[0m in \u001b[0;36m<module>\u001b[0;34m()\u001b[0m\n\u001b[1;32m      1\u001b[0m \u001b[0mA\u001b[0m \u001b[0;34m=\u001b[0m \u001b[0mnumpy\u001b[0m\u001b[0;34m.\u001b[0m\u001b[0midentity\u001b[0m\u001b[0;34m(\u001b[0m\u001b[0;36m2\u001b[0m\u001b[0;34m)\u001b[0m\u001b[0;34m\u001b[0m\u001b[0m\n\u001b[1;32m      2\u001b[0m \u001b[0mb\u001b[0m \u001b[0;34m=\u001b[0m \u001b[0mnumpy\u001b[0m\u001b[0;34m.\u001b[0m\u001b[0mones\u001b[0m\u001b[0;34m(\u001b[0m\u001b[0;34m(\u001b[0m\u001b[0;36m2\u001b[0m\u001b[0;34m,\u001b[0m\u001b[0;34m)\u001b[0m\u001b[0;34m)\u001b[0m\u001b[0;34m\u001b[0m\u001b[0m\n\u001b[0;32m----> 3\u001b[0;31m \u001b[0mprint\u001b[0m\u001b[0;34m(\u001b[0m\u001b[0mgauss_elimination\u001b[0m\u001b[0;34m(\u001b[0m\u001b[0mA\u001b[0m\u001b[0;34m,\u001b[0m \u001b[0mb\u001b[0m\u001b[0;34m)\u001b[0m\u001b[0;34m)\u001b[0m\u001b[0;34m\u001b[0m\u001b[0m\n\u001b[0m",
      "\u001b[0;32m<ipython-input-1-6801bbb52910>\u001b[0m in \u001b[0;36mgauss_elimination\u001b[0;34m(A, b)\u001b[0m\n\u001b[1;32m      6\u001b[0m     \"\"\"\n\u001b[1;32m      7\u001b[0m     \u001b[0mn\u001b[0m \u001b[0;34m=\u001b[0m \u001b[0mlen\u001b[0m\u001b[0;34m(\u001b[0m\u001b[0mb\u001b[0m\u001b[0;34m)\u001b[0m\u001b[0;34m\u001b[0m\u001b[0m\n\u001b[0;32m----> 8\u001b[0;31m     \u001b[0maug\u001b[0m \u001b[0;34m=\u001b[0m \u001b[0mnumpy\u001b[0m\u001b[0;34m.\u001b[0m\u001b[0mhstack\u001b[0m\u001b[0;34m(\u001b[0m\u001b[0;34m(\u001b[0m\u001b[0mA\u001b[0m\u001b[0;34m,\u001b[0m \u001b[0mb\u001b[0m\u001b[0;34m)\u001b[0m\u001b[0;34m)\u001b[0m\u001b[0;34m\u001b[0m\u001b[0m\n\u001b[0m\u001b[1;32m      9\u001b[0m     \u001b[0;31m# Elimination\u001b[0m\u001b[0;34m\u001b[0m\u001b[0;34m\u001b[0m\u001b[0m\n\u001b[1;32m     10\u001b[0m     \u001b[0;32mfor\u001b[0m \u001b[0mcol\u001b[0m \u001b[0;32min\u001b[0m \u001b[0mrange\u001b[0m\u001b[0;34m(\u001b[0m\u001b[0mn\u001b[0m\u001b[0;34m)\u001b[0m\u001b[0;34m:\u001b[0m\u001b[0;34m\u001b[0m\u001b[0m\n",
      "\u001b[0;32m/Users/ih3/anaconda/lib/python3.4/site-packages/numpy/core/shape_base.py\u001b[0m in \u001b[0;36mhstack\u001b[0;34m(tup)\u001b[0m\n\u001b[1;32m    278\u001b[0m         \u001b[0;32mreturn\u001b[0m \u001b[0m_nx\u001b[0m\u001b[0;34m.\u001b[0m\u001b[0mconcatenate\u001b[0m\u001b[0;34m(\u001b[0m\u001b[0marrs\u001b[0m\u001b[0;34m,\u001b[0m \u001b[0;36m0\u001b[0m\u001b[0;34m)\u001b[0m\u001b[0;34m\u001b[0m\u001b[0m\n\u001b[1;32m    279\u001b[0m     \u001b[0;32melse\u001b[0m\u001b[0;34m:\u001b[0m\u001b[0;34m\u001b[0m\u001b[0m\n\u001b[0;32m--> 280\u001b[0;31m         \u001b[0;32mreturn\u001b[0m \u001b[0m_nx\u001b[0m\u001b[0;34m.\u001b[0m\u001b[0mconcatenate\u001b[0m\u001b[0;34m(\u001b[0m\u001b[0marrs\u001b[0m\u001b[0;34m,\u001b[0m \u001b[0;36m1\u001b[0m\u001b[0;34m)\u001b[0m\u001b[0;34m\u001b[0m\u001b[0m\n\u001b[0m\u001b[1;32m    281\u001b[0m \u001b[0;34m\u001b[0m\u001b[0m\n\u001b[1;32m    282\u001b[0m \u001b[0;32mdef\u001b[0m \u001b[0mstack\u001b[0m\u001b[0;34m(\u001b[0m\u001b[0marrays\u001b[0m\u001b[0;34m,\u001b[0m \u001b[0maxis\u001b[0m\u001b[0;34m=\u001b[0m\u001b[0;36m0\u001b[0m\u001b[0;34m)\u001b[0m\u001b[0;34m:\u001b[0m\u001b[0;34m\u001b[0m\u001b[0m\n",
      "\u001b[0;31mValueError\u001b[0m: all the input arrays must have same number of dimensions"
     ]
    }
   ],
   "source": [
    "A = numpy.identity(2)\n",
    "b = numpy.ones((2,))\n",
    "print(gauss_elimination(A, b))"
   ]
  },
  {
   "cell_type": "markdown",
   "metadata": {},
   "source": [
    "This test shows up an annoying error with our code: it doesn't want to form the augmented matrix. Let's print out what the shape of the various arrays are:"
   ]
  },
  {
   "cell_type": "code",
   "execution_count": 3,
   "metadata": {},
   "outputs": [
    {
     "name": "stdout",
     "output_type": "stream",
     "text": [
      "(2, 2)\n",
      "(2,)\n"
     ]
    }
   ],
   "source": [
    "print(A.shape)\n",
    "print(b.shape)"
   ]
  },
  {
   "cell_type": "markdown",
   "metadata": {},
   "source": [
    "To glue together the two arrays we need it to see that ${\\bf b}$ is equivalent to a column vector. We can do this using `reshape`:"
   ]
  },
  {
   "cell_type": "code",
   "execution_count": 4,
   "metadata": {},
   "outputs": [
    {
     "name": "stdout",
     "output_type": "stream",
     "text": [
      "[[ 1.]\n",
      " [ 1.]]\n",
      "[[ 1.  0.  1.]\n",
      " [ 0.  1.  1.]]\n"
     ]
    }
   ],
   "source": [
    "print(numpy.reshape(b, (2,1)))\n",
    "print(numpy.hstack((A, numpy.reshape(b, (2,1)))))"
   ]
  },
  {
   "cell_type": "markdown",
   "metadata": {},
   "source": [
    "So we now correct our code:"
   ]
  },
  {
   "cell_type": "code",
   "execution_count": 5,
   "metadata": {
    "collapsed": true
   },
   "outputs": [],
   "source": [
    "import numpy\n",
    "\n",
    "def gauss_elimination(A, b):\n",
    "    \"\"\"\n",
    "    Solve A x = b\n",
    "    \"\"\"\n",
    "    n = len(b)\n",
    "    aug = numpy.hstack((A, numpy.reshape(b, (n, 1))))\n",
    "    # Elimination\n",
    "    for col in range(n):\n",
    "        for row in range(col+1,n):\n",
    "            pivot = aug[row,col] / aug[col,col]\n",
    "            aug[row,:] -= pivot * aug[col,:]\n",
    "    # Back substitution\n",
    "    x = numpy.zeros_like(b)\n",
    "    for row in range(n-1,-1,-1):\n",
    "        x[row] = aug[row, -1] / aug[row, row]\n",
    "        for col in range(row+1,n):\n",
    "            x[row] -=  aug[row, col] * x[col] / aug[row, row]\n",
    "    return x"
   ]
  },
  {
   "cell_type": "code",
   "execution_count": 6,
   "metadata": {},
   "outputs": [
    {
     "name": "stdout",
     "output_type": "stream",
     "text": [
      "[ 1.  1.]\n"
     ]
    }
   ],
   "source": [
    "print(gauss_elimination(A, b))"
   ]
  },
  {
   "cell_type": "markdown",
   "metadata": {},
   "source": [
    "We now see that this is the same as the input, but we should check that in code:"
   ]
  },
  {
   "cell_type": "code",
   "execution_count": 7,
   "metadata": {},
   "outputs": [
    {
     "name": "stdout",
     "output_type": "stream",
     "text": [
      "[ True  True]\n"
     ]
    }
   ],
   "source": [
    "print(b == gauss_elimination(A, b))"
   ]
  },
  {
   "cell_type": "markdown",
   "metadata": {},
   "source": [
    "This checks every component individually, and will be painful to check for large vectors. We can check if *all* entries are the same, which is all we care about:"
   ]
  },
  {
   "cell_type": "code",
   "execution_count": 8,
   "metadata": {},
   "outputs": [
    {
     "name": "stdout",
     "output_type": "stream",
     "text": [
      "True\n"
     ]
    }
   ],
   "source": [
    "print(numpy.all(b == gauss_elimination(A, b)))"
   ]
  },
  {
   "cell_type": "markdown",
   "metadata": {},
   "source": [
    "So this test works.\n",
    "\n",
    "Let us try something more interesting:\n",
    "\n",
    "$$\n",
    "A = \\begin{pmatrix} 1 & 2 \\\\ 3 & 4 \\end{pmatrix}, \\quad {\\bf b} = \\begin{pmatrix} 5 \\\\ 6 \\end{pmatrix} \\quad \\implies \\quad {\\bf x} = \\begin{pmatrix} -4 \\\\ 9/2 \\end{pmatrix}.\n",
    "$$"
   ]
  },
  {
   "cell_type": "code",
   "execution_count": 9,
   "metadata": {},
   "outputs": [
    {
     "name": "stdout",
     "output_type": "stream",
     "text": [
      "[-4.   4.5]\n"
     ]
    }
   ],
   "source": [
    "A = numpy.array([[1.0, 2.0], [3.0, 4.0]])\n",
    "b = numpy.array([5.0, 6.0])\n",
    "print(gauss_elimination(A, b))"
   ]
  },
  {
   "cell_type": "markdown",
   "metadata": {},
   "source": [
    "Again this has worked, but we want to check this in code. We specify the exact solution and check:"
   ]
  },
  {
   "cell_type": "code",
   "execution_count": 10,
   "metadata": {},
   "outputs": [
    {
     "name": "stdout",
     "output_type": "stream",
     "text": [
      "True\n"
     ]
    }
   ],
   "source": [
    "x_exact = [-4, 4.5]\n",
    "print(numpy.all(x_exact == gauss_elimination(A, b)))"
   ]
  },
  {
   "cell_type": "markdown",
   "metadata": {},
   "source": [
    "Next we will try a nastier case:\n",
    "\n",
    "$$\n",
    "A = \\begin{pmatrix} 10^{-20} & 1 \\\\ 1 & 1 \\end{pmatrix}, \\quad {\\bf b} = \\begin{pmatrix} 1 \\\\ 2 \\end{pmatrix} \\quad \\implies \\quad {\\bf x} \\simeq \\begin{pmatrix} 1 \\\\ 1 \\end{pmatrix}.\n",
    "$$"
   ]
  },
  {
   "cell_type": "code",
   "execution_count": 11,
   "metadata": {},
   "outputs": [
    {
     "name": "stdout",
     "output_type": "stream",
     "text": [
      "[ 1.  1.]\n",
      "[ 0.  1.]\n"
     ]
    }
   ],
   "source": [
    "A = numpy.array([[1.0e-20, 1.0], [1.0, 1.0]])\n",
    "b = numpy.array([1.0, 2.0])\n",
    "print(numpy.linalg.solve(A, b))\n",
    "print(gauss_elimination(A, b))"
   ]
  },
  {
   "cell_type": "markdown",
   "metadata": {},
   "source": [
    "This has failed. This is our classic case where we need to pivot or we have a catastrophic loss of precision. So now we need to change our code. How do we ensure that our code continues to work on the original tests while we're fixing the problem?"
   ]
  },
  {
   "cell_type": "markdown",
   "metadata": {},
   "source": [
    "## Test functions"
   ]
  },
  {
   "cell_type": "markdown",
   "metadata": {},
   "source": [
    "We're going to use an automated test runner to do this. With one command we will run all the tests we have available and see which ones pass and which fail. But first, we need to write test functions.\n",
    "\n",
    "A test function is a function whose name starts with `test_`. It checks if another bit of code is working correctly, by *asserting* that its behaviour does what is expected. Here are the test functions corresponding to the tests above:"
   ]
  },
  {
   "cell_type": "code",
   "execution_count": 12,
   "metadata": {},
   "outputs": [],
   "source": [
    "def test_diagonal():\n",
    "    A = numpy.identity(2)\n",
    "    b = numpy.ones((2,))\n",
    "    assert(numpy.all(b == gauss_elimination(A, b)))\n",
    "    \n",
    "def test_full():\n",
    "    A = numpy.array([[1.0, 2.0], [3.0, 4.0]])\n",
    "    b = numpy.array([5.0, 6.0])\n",
    "    x_exact = [-4.0, 4.5]\n",
    "    assert(numpy.all(x_exact == gauss_elimination(A, b)))\n",
    "    \n",
    "def test_pivoting():\n",
    "    A = numpy.array([[1.0e-20, 1.0], [1.0, 1.0]])\n",
    "    b = numpy.array([1.0, 2.0])\n",
    "    x_exact = [1.0, 1.0]\n",
    "    assert(numpy.all(x_exact == gauss_elimination(A, b)))"
   ]
  },
  {
   "cell_type": "markdown",
   "metadata": {},
   "source": [
    "Let us run the tests and see what happens:"
   ]
  },
  {
   "cell_type": "code",
   "execution_count": 13,
   "metadata": {
    "collapsed": true
   },
   "outputs": [],
   "source": [
    "test_diagonal()"
   ]
  },
  {
   "cell_type": "code",
   "execution_count": 14,
   "metadata": {
    "collapsed": true
   },
   "outputs": [],
   "source": [
    "test_full()"
   ]
  },
  {
   "cell_type": "code",
   "execution_count": 15,
   "metadata": {},
   "outputs": [
    {
     "ename": "AssertionError",
     "evalue": "",
     "output_type": "error",
     "traceback": [
      "\u001b[0;31m---------------------------------------------------------------------------\u001b[0m",
      "\u001b[0;31mAssertionError\u001b[0m                            Traceback (most recent call last)",
      "\u001b[0;32m<ipython-input-15-c694a44c9409>\u001b[0m in \u001b[0;36m<module>\u001b[0;34m()\u001b[0m\n\u001b[0;32m----> 1\u001b[0;31m \u001b[0mtest_pivoting\u001b[0m\u001b[0;34m(\u001b[0m\u001b[0;34m)\u001b[0m\u001b[0;34m\u001b[0m\u001b[0m\n\u001b[0m",
      "\u001b[0;32m<ipython-input-12-61aa7c91b860>\u001b[0m in \u001b[0;36mtest_pivoting\u001b[0;34m()\u001b[0m\n\u001b[1;32m     14\u001b[0m     \u001b[0mb\u001b[0m \u001b[0;34m=\u001b[0m \u001b[0mnumpy\u001b[0m\u001b[0;34m.\u001b[0m\u001b[0marray\u001b[0m\u001b[0;34m(\u001b[0m\u001b[0;34m[\u001b[0m\u001b[0;36m1.0\u001b[0m\u001b[0;34m,\u001b[0m \u001b[0;36m2.0\u001b[0m\u001b[0;34m]\u001b[0m\u001b[0;34m)\u001b[0m\u001b[0;34m\u001b[0m\u001b[0m\n\u001b[1;32m     15\u001b[0m     \u001b[0mx_exact\u001b[0m \u001b[0;34m=\u001b[0m \u001b[0;34m[\u001b[0m\u001b[0;36m1.0\u001b[0m\u001b[0;34m,\u001b[0m \u001b[0;36m1.0\u001b[0m\u001b[0;34m]\u001b[0m\u001b[0;34m\u001b[0m\u001b[0m\n\u001b[0;32m---> 16\u001b[0;31m     \u001b[0;32massert\u001b[0m\u001b[0;34m(\u001b[0m\u001b[0mnumpy\u001b[0m\u001b[0;34m.\u001b[0m\u001b[0mall\u001b[0m\u001b[0;34m(\u001b[0m\u001b[0mx_exact\u001b[0m \u001b[0;34m==\u001b[0m \u001b[0mgauss_elimination\u001b[0m\u001b[0;34m(\u001b[0m\u001b[0mA\u001b[0m\u001b[0;34m,\u001b[0m \u001b[0mb\u001b[0m\u001b[0;34m)\u001b[0m\u001b[0;34m)\u001b[0m\u001b[0;34m)\u001b[0m\u001b[0;34m\u001b[0m\u001b[0m\n\u001b[0m",
      "\u001b[0;31mAssertionError\u001b[0m: "
     ]
    }
   ],
   "source": [
    "test_pivoting()"
   ]
  },
  {
   "cell_type": "markdown",
   "metadata": {},
   "source": [
    "If the test works, *nothing happens*. If the test fails, it tells you that it did.\n",
    "\n",
    "This is useful, but we still have to remember to execute all the tests. We could make a script to do this, but there's a better way."
   ]
  },
  {
   "cell_type": "markdown",
   "metadata": {},
   "source": [
    "## `py.test`"
   ]
  },
  {
   "cell_type": "markdown",
   "metadata": {},
   "source": [
    "We want to run *all* tests. To do this we'll need to save our code to a script. So create a file (let's call it `gauss_elimination.py` containing our code so far:\n",
    "\n",
    "```python\n",
    "import numpy\n",
    "\n",
    "def gauss_elimination(A, b):\n",
    "    \"\"\"\n",
    "    Solve A x = b\n",
    "    \"\"\"\n",
    "    n = len(b)\n",
    "    aug = numpy.hstack((A, numpy.reshape(b, (n, 1))))\n",
    "    # Elimination\n",
    "    for col in range(n):\n",
    "        for row in range(col+1,n):\n",
    "            pivot = aug[row,col] / aug[col,col]\n",
    "            aug[row,:] -= pivot * aug[col,:]\n",
    "    # Back substitution\n",
    "    x = numpy.zeros_like(b)\n",
    "    for row in range(n-1,-1,-1):\n",
    "        x[row] = aug[row, -1] / aug[row, row]\n",
    "        for col in range(row+1,n):\n",
    "            x[row] -=  aug[row, col] * x[col] / aug[row, row]\n",
    "    return x\n",
    "\n",
    "def test_diagonal():\n",
    "    A = numpy.identity(2)\n",
    "    b = numpy.ones((2,))\n",
    "    assert(numpy.all(b == gauss_elimination(A, b)))\n",
    "    \n",
    "def test_full():\n",
    "    A = numpy.array([[1.0, 2.0], [3.0, 4.0]])\n",
    "    b = numpy.array([5.0, 6.0])\n",
    "    x_exact = [2, 1.5]\n",
    "    assert(numpy.all(x_exact == gauss_elimination(A, b)))\n",
    "    \n",
    "def test_pivoting():\n",
    "    A = numpy.array([[1.0e-10, 0.0], [1.0, 1.0]])\n",
    "    b = numpy.array([1.0, 2.0])\n",
    "    x_exact = [1.0e10, -1.0e10]\n",
    "    assert(numpy.all(x_exact == gauss_elimination(A, b)))\n",
    "```\n",
    "\n",
    "Now, in the console, type\n",
    "\n",
    "```python\n",
    "import pytest\n",
    "pytest.main(\"-x gauss_elimination.py\")\n",
    "```\n",
    "\n",
    "This command will run all of the test functions in the `gauss_elimination.py` file.\n",
    "\n",
    "You should see output looking like\n",
    "\n",
    "```bash\n",
    "collected 3 items \n",
    "\n",
    "gauss_elimination.py ..F\n",
    "\n",
    "=========================================== FAILURES ===========================================\n",
    "________________________________________ test_pivoting _________________________________________\n",
    "\n",
    "    def test_pivoting():\n",
    "        A = numpy.array([[1.0e-10, 1.0], [1.0, 1.0]])\n",
    "        b = numpy.array([1.0, 2.0])\n",
    "        x_exact = [1.0, 1.0]\n",
    ">       assert(numpy.all(x_exact == gauss_elimination(A, b)))\n",
    "E       assert <function all at 0x1034fa378>([1.0, 1.0] == array([ -1.00000000e+10,   2.00000000e+00])\n",
    "E        +  where <function all at 0x1034fa378> = numpy.all\n",
    "E         Use -v to get the full diff)\n",
    "\n",
    "gauss_elimination.py:37: AssertionError\n",
    "============================== 1 failed, 2 passed in 0.31 seconds ==============================\n",
    "```\n",
    "\n",
    "This tells us that it\n",
    "\n",
    "* found 3 tests (`collected 3 items`)\n",
    "* 1 failed and 2 passed (final line, or the `..F`: each `.` is a passing test)\n",
    "* the test that failed is the one we expected."
   ]
  },
  {
   "cell_type": "markdown",
   "metadata": {},
   "source": [
    "Now, when we change the code, we can run all the tests to make sure we didn't break anything."
   ]
  },
  {
   "cell_type": "markdown",
   "metadata": {},
   "source": [
    "## Close enough?"
   ]
  },
  {
   "cell_type": "markdown",
   "metadata": {},
   "source": [
    "We can now try and change the code to include pivoting. Modify your `gauss_elimination` function to read\n",
    "\n",
    "```python\n",
    "...\n",
    "    # Elimination\n",
    "    for col in range(n):\n",
    "        # Find the location of the pivot\n",
    "        ind = numpy.argmax(numpy.abs(aug[col:, col]))\n",
    "        if ind != col:\n",
    "            # One liner to swap the rows; think carefully!\n",
    "            aug[[col,ind+col],:] = aug[[ind+col, col],:]\n",
    "        for row in range(col+1,n):\n",
    "            pivot = aug[row,col] / aug[col,col]\n",
    "            aug[row,:] -= pivot * aug[row,:]\n",
    "...\n",
    "```\n",
    "\n",
    "This will now perform (partial) pivoting. We can now immediately run our tests again by typing\n",
    "\n",
    "```python\n",
    "pytest.main(\"-x gauss_elimination.py\")\n",
    "```\n",
    "\n",
    "and we should see something like\n",
    "\n",
    "```bash\n",
    "collected 3 items \n",
    "\n",
    "gauss_elimination_with_pivoting.py .FF\n",
    "\n",
    "=========================================== FAILURES ===========================================\n",
    "__________________________________________ test_full ___________________________________________\n",
    "\n",
    "    def test_full():\n",
    "        A = numpy.array([[1.0, 2.0], [3.0, 4.0]])\n",
    "        b = numpy.array([5.0, 6.0])\n",
    "        x_exact = [-4.0, 4.5]\n",
    ">       assert(numpy.all(x_exact == gauss_elimination(A, b)))\n",
    "E       assert <function all at 0x1034f9378>([-4.0, 4.5] == array([-4. ,  4.5])\n",
    "E        +  where <function all at 0x1034f9378> = numpy.all\n",
    "E         Use -v to get the full diff)\n",
    "\n",
    "gauss_elimination.py:36: AssertionError\n",
    "________________________________________ test_pivoting _________________________________________\n",
    "\n",
    "    def test_pivoting():\n",
    "        A = numpy.array([[1.0e-10, 1.0], [1.0, 1.0]])\n",
    "        b = numpy.array([1.0, 2.0])\n",
    "        x_exact = [1.0, 1.0]\n",
    ">       assert(numpy.all(x_exact == gauss_elimination(A, b)))\n",
    "E       assert <function all at 0x1034f9378>([1.0, 1.0] == array([ 1.,  1.])\n",
    "E        +  where <function all at 0x1034f9378> = numpy.all\n",
    "E         Use -v to get the full diff)\n",
    "\n",
    "gauss_elimination.py:42: AssertionError\n",
    "============================== 2 failed, 1 passed in 0.32 seconds ==============================\n",
    "```\n",
    "\n",
    "Now the middle test has failed as well! However, look at what it is comparing: `([-4.0, 4.5] == array([-4. ,  4.5])`. These appear to be identical, but it's clearly finding a small difference."
   ]
  },
  {
   "cell_type": "code",
   "execution_count": 16,
   "metadata": {
    "collapsed": true,
    "nbconvert": {
     "hide_code": true
    }
   },
   "outputs": [],
   "source": [
    "def gauss_elimination(A, b):\n",
    "    \"\"\"\n",
    "    Solve A x = b\n",
    "    \"\"\"\n",
    "    n = len(b)\n",
    "    aug = numpy.hstack((A, numpy.reshape(b, (n, 1))))\n",
    "    # Elimination\n",
    "    for col in range(n):\n",
    "        # Find the location of the pivot\n",
    "        ind = numpy.argmax(numpy.abs(aug[col:, col]))\n",
    "        if ind != col:\n",
    "            # One liner to swap the rows; think carefully!\n",
    "            aug[[col,ind+col],:] = aug[[ind+col, col],:]\n",
    "        for row in range(col+1,n):\n",
    "            pivot = aug[row,col] / aug[col,col]\n",
    "            aug[row,:] -= pivot * aug[col,:]\n",
    "    # Back substitution\n",
    "    x = numpy.zeros_like(b)\n",
    "    for row in range(n-1,-1,-1):\n",
    "        x[row] = aug[row, -1] / aug[row, row]\n",
    "        for col in range(row+1,n):\n",
    "            x[row] -=  aug[row, col] * x[col] / aug[row, row]\n",
    "    return x"
   ]
  },
  {
   "cell_type": "markdown",
   "metadata": {},
   "source": [
    "We can check this explicitly by looking at the result of our latest code in detail:"
   ]
  },
  {
   "cell_type": "code",
   "execution_count": 17,
   "metadata": {},
   "outputs": [
    {
     "name": "stdout",
     "output_type": "stream",
     "text": [
      "[  8.88178420e-16  -8.88178420e-16]\n"
     ]
    }
   ],
   "source": [
    "A = numpy.array([[1.0, 2.0], [3.0, 4.0]])\n",
    "b = numpy.array([5.0, 6.0])\n",
    "x_exact = numpy.array([-4.0, 4.5])\n",
    "x = gauss_elimination(A, b)\n",
    "print(x - x_exact)"
   ]
  },
  {
   "cell_type": "markdown",
   "metadata": {},
   "source": [
    "We see that the difference is truly tiny, and due to floating point errors, not errors in the algorithm. We should modify our check: instead of making certain it is *exactly* equal, we should check if the result is *close*. Thankfully, there is a function for this: `numpy.allclose`. Modify the tests to read\n",
    "\n",
    "```python\n",
    "def test_diagonal():\n",
    "    A = numpy.identity(2)\n",
    "    b = numpy.ones((2,))\n",
    "    assert(numpy.allclose(b, gauss_elimination(A, b)))\n",
    "    \n",
    "def test_full():\n",
    "    A = numpy.array([[1.0, 2.0], [3.0, 4.0]])\n",
    "    b = numpy.array([5.0, 6.0])\n",
    "    x_exact = [-4.0, 4.5]\n",
    "    assert(numpy.allclose(x_exact, gauss_elimination(A, b)))\n",
    "    \n",
    "def test_pivoting():\n",
    "    A = numpy.array([[1.0e-10, 1.0], [1.0, 1.0]])\n",
    "    b = numpy.array([1.0, 2.0])\n",
    "    x_exact = [1.0, 1.0]\n",
    "    assert(numpy.allclose(x_exact, gauss_elimination(A, b)))\n",
    "```\n",
    "\n",
    "Now we should see\n",
    "\n",
    "```bash\n",
    "collected 3 items \n",
    "\n",
    "gauss_elimination.py ...\n",
    "\n",
    "=================================== 3 passed in 0.31 seconds ===================================\n",
    "```"
   ]
  },
  {
   "cell_type": "markdown",
   "metadata": {},
   "source": [
    "# Exercises"
   ]
  },
  {
   "cell_type": "markdown",
   "metadata": {},
   "source": [
    "1. Add more tests. Check higher dimensional matrices.\n",
    "2. What happens if you put in \"incorrect\" input? Say you set `b=\"dog\"` rather than an array. Or suppose the matrix and vector have incompatible dimensions. Investigate `pytest.raises` to write tests that check that the function fails the way you expect.\n",
    "3. When your code fails, is the output easy to understand? If not, add `assert` statements *inside* the `gauss_elimination` function that are more meaningful: for example `assert(len(A) == len(b)), \"Matrix A and vector b must have compatible dimensions!\"`"
   ]
  }
 ],
 "metadata": {
  "celltoolbar": "Edit Metadata",
  "kernelspec": {
   "display_name": "Python 3",
   "language": "python",
   "name": "python3"
  },
  "language_info": {
   "codemirror_mode": {
    "name": "ipython",
    "version": 3
   },
   "file_extension": ".py",
   "mimetype": "text/x-python",
   "name": "python",
   "nbconvert_exporter": "python",
   "pygments_lexer": "ipython3",
   "version": "3.6.6"
  }
 },
 "nbformat": 4,
 "nbformat_minor": 1
}
